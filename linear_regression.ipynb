{
 "cells": [
  {
   "cell_type": "markdown",
   "metadata": {},
   "source": [
    "## DSCI 552: Machine Learning for Data Science\n",
    "Problem Set 1\n",
    "\n",
    "Yifei Li"
   ]
  },
  {
   "cell_type": "markdown",
   "metadata": {},
   "source": [
    "## Import libraries and the dataset"
   ]
  },
  {
   "cell_type": "code",
   "execution_count": 192,
   "metadata": {
    "ExecuteTime": {
     "end_time": "2021-02-04T01:56:38.195807Z",
     "start_time": "2021-02-04T01:56:38.192036Z"
    }
   },
   "outputs": [],
   "source": [
    "import pandas as pd\n",
    "import matplotlib.pyplot as plt\n",
    "import numpy as np\n",
    "from sklearn import datasets, linear_model\n",
    "from sklearn.utils import shuffle\n",
    "from sklearn.metrics import mean_squared_error, r2_score\n",
    "from sklearn.model_selection import cross_val_score\n",
    "from sklearn.feature_selection import f_regression\n",
    "from scipy import stats\n",
    "from mlxtend.feature_selection import SequentialFeatureSelector as sfs\n",
    "from mlxtend.plotting import plot_sequential_feature_selection as plot_sfs"
   ]
  },
  {
   "cell_type": "code",
   "execution_count": 2,
   "metadata": {
    "ExecuteTime": {
     "end_time": "2021-02-03T23:09:23.679499Z",
     "start_time": "2021-02-03T23:09:23.553402Z"
    }
   },
   "outputs": [
    {
     "data": {
      "text/html": [
       "<div>\n",
       "<style scoped>\n",
       "    .dataframe tbody tr th:only-of-type {\n",
       "        vertical-align: middle;\n",
       "    }\n",
       "\n",
       "    .dataframe tbody tr th {\n",
       "        vertical-align: top;\n",
       "    }\n",
       "\n",
       "    .dataframe thead th {\n",
       "        text-align: right;\n",
       "    }\n",
       "</style>\n",
       "<table border=\"1\" class=\"dataframe\">\n",
       "  <thead>\n",
       "    <tr style=\"text-align: right;\">\n",
       "      <th></th>\n",
       "      <th>price</th>\n",
       "      <th>year</th>\n",
       "      <th>manufacturer</th>\n",
       "      <th>condition</th>\n",
       "      <th>cylinders</th>\n",
       "      <th>fuel</th>\n",
       "      <th>odometer</th>\n",
       "      <th>transmission</th>\n",
       "      <th>type</th>\n",
       "      <th>paint_color</th>\n",
       "      <th>F1</th>\n",
       "      <th>F2</th>\n",
       "      <th>F3</th>\n",
       "      <th>F4</th>\n",
       "    </tr>\n",
       "  </thead>\n",
       "  <tbody>\n",
       "    <tr>\n",
       "      <th>0</th>\n",
       "      <td>18219.0</td>\n",
       "      <td>2008.0</td>\n",
       "      <td>ford</td>\n",
       "      <td>excellent</td>\n",
       "      <td>8 cylinders</td>\n",
       "      <td>gas</td>\n",
       "      <td>86238.0</td>\n",
       "      <td>automatic</td>\n",
       "      <td>pickup</td>\n",
       "      <td>black</td>\n",
       "      <td>5823</td>\n",
       "      <td>2.193844</td>\n",
       "      <td>-0.031986</td>\n",
       "      <td>b</td>\n",
       "    </tr>\n",
       "    <tr>\n",
       "      <th>1</th>\n",
       "      <td>800.0</td>\n",
       "      <td>2008.0</td>\n",
       "      <td>ford</td>\n",
       "      <td>excellent</td>\n",
       "      <td>6 cylinders</td>\n",
       "      <td>gas</td>\n",
       "      <td>170953.0</td>\n",
       "      <td>automatic</td>\n",
       "      <td>SUV</td>\n",
       "      <td>red</td>\n",
       "      <td>2024</td>\n",
       "      <td>2.133691</td>\n",
       "      <td>0.097985</td>\n",
       "      <td>b</td>\n",
       "    </tr>\n",
       "    <tr>\n",
       "      <th>2</th>\n",
       "      <td>23660.0</td>\n",
       "      <td>2016.0</td>\n",
       "      <td>ford</td>\n",
       "      <td>good</td>\n",
       "      <td>8 cylinders</td>\n",
       "      <td>gas</td>\n",
       "      <td>119026.0</td>\n",
       "      <td>automatic</td>\n",
       "      <td>truck</td>\n",
       "      <td>white</td>\n",
       "      <td>294</td>\n",
       "      <td>2.160859</td>\n",
       "      <td>0.046984</td>\n",
       "      <td>c</td>\n",
       "    </tr>\n",
       "    <tr>\n",
       "      <th>3</th>\n",
       "      <td>5335.0</td>\n",
       "      <td>2009.0</td>\n",
       "      <td>ford</td>\n",
       "      <td>excellent</td>\n",
       "      <td>4 cylinders</td>\n",
       "      <td>gas</td>\n",
       "      <td>69000.0</td>\n",
       "      <td>manual</td>\n",
       "      <td>sedan</td>\n",
       "      <td>blue</td>\n",
       "      <td>3544</td>\n",
       "      <td>2.114929</td>\n",
       "      <td>-0.110121</td>\n",
       "      <td>c</td>\n",
       "    </tr>\n",
       "    <tr>\n",
       "      <th>4</th>\n",
       "      <td>1597.0</td>\n",
       "      <td>1999.0</td>\n",
       "      <td>ford</td>\n",
       "      <td>good</td>\n",
       "      <td>6 cylinders</td>\n",
       "      <td>gas</td>\n",
       "      <td>59130.0</td>\n",
       "      <td>automatic</td>\n",
       "      <td>sedan</td>\n",
       "      <td>blue</td>\n",
       "      <td>1329</td>\n",
       "      <td>1.829625</td>\n",
       "      <td>-0.060615</td>\n",
       "      <td>c</td>\n",
       "    </tr>\n",
       "    <tr>\n",
       "      <th>...</th>\n",
       "      <td>...</td>\n",
       "      <td>...</td>\n",
       "      <td>...</td>\n",
       "      <td>...</td>\n",
       "      <td>...</td>\n",
       "      <td>...</td>\n",
       "      <td>...</td>\n",
       "      <td>...</td>\n",
       "      <td>...</td>\n",
       "      <td>...</td>\n",
       "      <td>...</td>\n",
       "      <td>...</td>\n",
       "      <td>...</td>\n",
       "      <td>...</td>\n",
       "    </tr>\n",
       "    <tr>\n",
       "      <th>9992</th>\n",
       "      <td>18924.0</td>\n",
       "      <td>2017.0</td>\n",
       "      <td>ford</td>\n",
       "      <td>good</td>\n",
       "      <td>4 cylinders</td>\n",
       "      <td>gas</td>\n",
       "      <td>122612.0</td>\n",
       "      <td>automatic</td>\n",
       "      <td>sedan</td>\n",
       "      <td>silver</td>\n",
       "      <td>3588</td>\n",
       "      <td>2.202934</td>\n",
       "      <td>0.212334</td>\n",
       "      <td>b</td>\n",
       "    </tr>\n",
       "    <tr>\n",
       "      <th>9993</th>\n",
       "      <td>4248.0</td>\n",
       "      <td>2002.0</td>\n",
       "      <td>ford</td>\n",
       "      <td>like new</td>\n",
       "      <td>6 cylinders</td>\n",
       "      <td>gas</td>\n",
       "      <td>NaN</td>\n",
       "      <td>automatic</td>\n",
       "      <td>sedan</td>\n",
       "      <td>silver</td>\n",
       "      <td>157</td>\n",
       "      <td>2.147843</td>\n",
       "      <td>0.070923</td>\n",
       "      <td>a</td>\n",
       "    </tr>\n",
       "    <tr>\n",
       "      <th>9994</th>\n",
       "      <td>26269.0</td>\n",
       "      <td>2017.0</td>\n",
       "      <td>ford</td>\n",
       "      <td>excellent</td>\n",
       "      <td>6 cylinders</td>\n",
       "      <td>gas</td>\n",
       "      <td>52541.0</td>\n",
       "      <td>automatic</td>\n",
       "      <td>SUV</td>\n",
       "      <td>white</td>\n",
       "      <td>1499</td>\n",
       "      <td>2.392569</td>\n",
       "      <td>0.094751</td>\n",
       "      <td>c</td>\n",
       "    </tr>\n",
       "    <tr>\n",
       "      <th>9995</th>\n",
       "      <td>6149.0</td>\n",
       "      <td>2013.0</td>\n",
       "      <td>ford</td>\n",
       "      <td>good</td>\n",
       "      <td>4 cylinders</td>\n",
       "      <td>gas</td>\n",
       "      <td>197000.0</td>\n",
       "      <td>automatic</td>\n",
       "      <td>SUV</td>\n",
       "      <td>black</td>\n",
       "      <td>180</td>\n",
       "      <td>2.269796</td>\n",
       "      <td>0.129762</td>\n",
       "      <td>a</td>\n",
       "    </tr>\n",
       "    <tr>\n",
       "      <th>9996</th>\n",
       "      <td>9831.0</td>\n",
       "      <td>2015.0</td>\n",
       "      <td>ford</td>\n",
       "      <td>excellent</td>\n",
       "      <td>4 cylinders</td>\n",
       "      <td>gas</td>\n",
       "      <td>139000.0</td>\n",
       "      <td>automatic</td>\n",
       "      <td>SUV</td>\n",
       "      <td>white</td>\n",
       "      <td>386</td>\n",
       "      <td>2.407066</td>\n",
       "      <td>0.311618</td>\n",
       "      <td>c</td>\n",
       "    </tr>\n",
       "  </tbody>\n",
       "</table>\n",
       "<p>9997 rows × 14 columns</p>\n",
       "</div>"
      ],
      "text/plain": [
       "        price    year manufacturer  condition    cylinders fuel  odometer  \\\n",
       "0     18219.0  2008.0         ford  excellent  8 cylinders  gas   86238.0   \n",
       "1       800.0  2008.0         ford  excellent  6 cylinders  gas  170953.0   \n",
       "2     23660.0  2016.0         ford       good  8 cylinders  gas  119026.0   \n",
       "3      5335.0  2009.0         ford  excellent  4 cylinders  gas   69000.0   \n",
       "4      1597.0  1999.0         ford       good  6 cylinders  gas   59130.0   \n",
       "...       ...     ...          ...        ...          ...  ...       ...   \n",
       "9992  18924.0  2017.0         ford       good  4 cylinders  gas  122612.0   \n",
       "9993   4248.0  2002.0         ford   like new  6 cylinders  gas       NaN   \n",
       "9994  26269.0  2017.0         ford  excellent  6 cylinders  gas   52541.0   \n",
       "9995   6149.0  2013.0         ford       good  4 cylinders  gas  197000.0   \n",
       "9996   9831.0  2015.0         ford  excellent  4 cylinders  gas  139000.0   \n",
       "\n",
       "     transmission    type paint_color    F1        F2        F3 F4  \n",
       "0       automatic  pickup       black  5823  2.193844 -0.031986  b  \n",
       "1       automatic     SUV         red  2024  2.133691  0.097985  b  \n",
       "2       automatic   truck       white   294  2.160859  0.046984  c  \n",
       "3          manual   sedan        blue  3544  2.114929 -0.110121  c  \n",
       "4       automatic   sedan        blue  1329  1.829625 -0.060615  c  \n",
       "...           ...     ...         ...   ...       ...       ... ..  \n",
       "9992    automatic   sedan      silver  3588  2.202934  0.212334  b  \n",
       "9993    automatic   sedan      silver   157  2.147843  0.070923  a  \n",
       "9994    automatic     SUV       white  1499  2.392569  0.094751  c  \n",
       "9995    automatic     SUV       black   180  2.269796  0.129762  a  \n",
       "9996    automatic     SUV       white   386  2.407066  0.311618  c  \n",
       "\n",
       "[9997 rows x 14 columns]"
      ]
     },
     "execution_count": 2,
     "metadata": {},
     "output_type": "execute_result"
    }
   ],
   "source": [
    "# Import the dataset\n",
    "car_info = pd.read_csv('./task1/used_car_dataset.csv')\n",
    "car_info"
   ]
  },
  {
   "cell_type": "code",
   "execution_count": 3,
   "metadata": {
    "ExecuteTime": {
     "end_time": "2021-02-03T23:09:31.641271Z",
     "start_time": "2021-02-03T23:09:27.689305Z"
    }
   },
   "outputs": [
    {
     "data": {
      "text/plain": [
       "array([[<AxesSubplot:xlabel='price', ylabel='price'>,\n",
       "        <AxesSubplot:xlabel='year', ylabel='price'>,\n",
       "        <AxesSubplot:xlabel='odometer', ylabel='price'>,\n",
       "        <AxesSubplot:xlabel='F1', ylabel='price'>,\n",
       "        <AxesSubplot:xlabel='F2', ylabel='price'>,\n",
       "        <AxesSubplot:xlabel='F3', ylabel='price'>],\n",
       "       [<AxesSubplot:xlabel='price', ylabel='year'>,\n",
       "        <AxesSubplot:xlabel='year', ylabel='year'>,\n",
       "        <AxesSubplot:xlabel='odometer', ylabel='year'>,\n",
       "        <AxesSubplot:xlabel='F1', ylabel='year'>,\n",
       "        <AxesSubplot:xlabel='F2', ylabel='year'>,\n",
       "        <AxesSubplot:xlabel='F3', ylabel='year'>],\n",
       "       [<AxesSubplot:xlabel='price', ylabel='odometer'>,\n",
       "        <AxesSubplot:xlabel='year', ylabel='odometer'>,\n",
       "        <AxesSubplot:xlabel='odometer', ylabel='odometer'>,\n",
       "        <AxesSubplot:xlabel='F1', ylabel='odometer'>,\n",
       "        <AxesSubplot:xlabel='F2', ylabel='odometer'>,\n",
       "        <AxesSubplot:xlabel='F3', ylabel='odometer'>],\n",
       "       [<AxesSubplot:xlabel='price', ylabel='F1'>,\n",
       "        <AxesSubplot:xlabel='year', ylabel='F1'>,\n",
       "        <AxesSubplot:xlabel='odometer', ylabel='F1'>,\n",
       "        <AxesSubplot:xlabel='F1', ylabel='F1'>,\n",
       "        <AxesSubplot:xlabel='F2', ylabel='F1'>,\n",
       "        <AxesSubplot:xlabel='F3', ylabel='F1'>],\n",
       "       [<AxesSubplot:xlabel='price', ylabel='F2'>,\n",
       "        <AxesSubplot:xlabel='year', ylabel='F2'>,\n",
       "        <AxesSubplot:xlabel='odometer', ylabel='F2'>,\n",
       "        <AxesSubplot:xlabel='F1', ylabel='F2'>,\n",
       "        <AxesSubplot:xlabel='F2', ylabel='F2'>,\n",
       "        <AxesSubplot:xlabel='F3', ylabel='F2'>],\n",
       "       [<AxesSubplot:xlabel='price', ylabel='F3'>,\n",
       "        <AxesSubplot:xlabel='year', ylabel='F3'>,\n",
       "        <AxesSubplot:xlabel='odometer', ylabel='F3'>,\n",
       "        <AxesSubplot:xlabel='F1', ylabel='F3'>,\n",
       "        <AxesSubplot:xlabel='F2', ylabel='F3'>,\n",
       "        <AxesSubplot:xlabel='F3', ylabel='F3'>]], dtype=object)"
      ]
     },
     "execution_count": 3,
     "metadata": {},
     "output_type": "execute_result"
    },
    {
     "data": {
      "image/png": "[encoded data removed]",
      "text/plain": [
       "<Figure size 1080x1080 with 36 Axes>"
      ]
     },
     "metadata": {
      "needs_background": "light"
     },
     "output_type": "display_data"
    }
   ],
   "source": [
    "# Plotting out the dataset\n",
    "pd.plotting.scatter_matrix(car_info, alpha=.5, figsize=(15,15))"
   ]
  },
  {
   "cell_type": "markdown",
   "metadata": {},
   "source": [
    "## Data cleaning and encoding"
   ]
  },
  {
   "cell_type": "code",
   "execution_count": 4,
   "metadata": {
    "ExecuteTime": {
     "end_time": "2021-02-03T23:10:01.184946Z",
     "start_time": "2021-02-03T23:10:01.138697Z"
    }
   },
   "outputs": [
    {
     "data": {
      "text/html": [
       "<div>\n",
       "<style scoped>\n",
       "    .dataframe tbody tr th:only-of-type {\n",
       "        vertical-align: middle;\n",
       "    }\n",
       "\n",
       "    .dataframe tbody tr th {\n",
       "        vertical-align: top;\n",
       "    }\n",
       "\n",
       "    .dataframe thead th {\n",
       "        text-align: right;\n",
       "    }\n",
       "</style>\n",
       "<table border=\"1\" class=\"dataframe\">\n",
       "  <thead>\n",
       "    <tr style=\"text-align: right;\">\n",
       "      <th></th>\n",
       "      <th>price</th>\n",
       "      <th>year</th>\n",
       "      <th>manufacturer</th>\n",
       "      <th>condition</th>\n",
       "      <th>cylinders</th>\n",
       "      <th>fuel</th>\n",
       "      <th>odometer</th>\n",
       "      <th>transmission</th>\n",
       "      <th>type</th>\n",
       "      <th>paint_color</th>\n",
       "      <th>F1</th>\n",
       "      <th>F2</th>\n",
       "      <th>F3</th>\n",
       "      <th>F4</th>\n",
       "    </tr>\n",
       "  </thead>\n",
       "  <tbody>\n",
       "    <tr>\n",
       "      <th>0</th>\n",
       "      <td>18219.0</td>\n",
       "      <td>2008.0</td>\n",
       "      <td>ford</td>\n",
       "      <td>excellent</td>\n",
       "      <td>8 cylinders</td>\n",
       "      <td>gas</td>\n",
       "      <td>86238.0</td>\n",
       "      <td>automatic</td>\n",
       "      <td>pickup</td>\n",
       "      <td>black</td>\n",
       "      <td>5823</td>\n",
       "      <td>2.193844</td>\n",
       "      <td>-0.031986</td>\n",
       "      <td>b</td>\n",
       "    </tr>\n",
       "    <tr>\n",
       "      <th>1</th>\n",
       "      <td>800.0</td>\n",
       "      <td>2008.0</td>\n",
       "      <td>ford</td>\n",
       "      <td>excellent</td>\n",
       "      <td>6 cylinders</td>\n",
       "      <td>gas</td>\n",
       "      <td>170953.0</td>\n",
       "      <td>automatic</td>\n",
       "      <td>SUV</td>\n",
       "      <td>red</td>\n",
       "      <td>2024</td>\n",
       "      <td>2.133691</td>\n",
       "      <td>0.097985</td>\n",
       "      <td>b</td>\n",
       "    </tr>\n",
       "    <tr>\n",
       "      <th>2</th>\n",
       "      <td>23660.0</td>\n",
       "      <td>2016.0</td>\n",
       "      <td>ford</td>\n",
       "      <td>good</td>\n",
       "      <td>8 cylinders</td>\n",
       "      <td>gas</td>\n",
       "      <td>119026.0</td>\n",
       "      <td>automatic</td>\n",
       "      <td>truck</td>\n",
       "      <td>white</td>\n",
       "      <td>294</td>\n",
       "      <td>2.160859</td>\n",
       "      <td>0.046984</td>\n",
       "      <td>c</td>\n",
       "    </tr>\n",
       "    <tr>\n",
       "      <th>3</th>\n",
       "      <td>5335.0</td>\n",
       "      <td>2009.0</td>\n",
       "      <td>ford</td>\n",
       "      <td>excellent</td>\n",
       "      <td>4 cylinders</td>\n",
       "      <td>gas</td>\n",
       "      <td>69000.0</td>\n",
       "      <td>manual</td>\n",
       "      <td>sedan</td>\n",
       "      <td>blue</td>\n",
       "      <td>3544</td>\n",
       "      <td>2.114929</td>\n",
       "      <td>-0.110121</td>\n",
       "      <td>c</td>\n",
       "    </tr>\n",
       "    <tr>\n",
       "      <th>4</th>\n",
       "      <td>1597.0</td>\n",
       "      <td>1999.0</td>\n",
       "      <td>ford</td>\n",
       "      <td>good</td>\n",
       "      <td>6 cylinders</td>\n",
       "      <td>gas</td>\n",
       "      <td>59130.0</td>\n",
       "      <td>automatic</td>\n",
       "      <td>sedan</td>\n",
       "      <td>blue</td>\n",
       "      <td>1329</td>\n",
       "      <td>1.829625</td>\n",
       "      <td>-0.060615</td>\n",
       "      <td>c</td>\n",
       "    </tr>\n",
       "    <tr>\n",
       "      <th>...</th>\n",
       "      <td>...</td>\n",
       "      <td>...</td>\n",
       "      <td>...</td>\n",
       "      <td>...</td>\n",
       "      <td>...</td>\n",
       "      <td>...</td>\n",
       "      <td>...</td>\n",
       "      <td>...</td>\n",
       "      <td>...</td>\n",
       "      <td>...</td>\n",
       "      <td>...</td>\n",
       "      <td>...</td>\n",
       "      <td>...</td>\n",
       "      <td>...</td>\n",
       "    </tr>\n",
       "    <tr>\n",
       "      <th>9991</th>\n",
       "      <td>7589.0</td>\n",
       "      <td>2008.0</td>\n",
       "      <td>ford</td>\n",
       "      <td>excellent</td>\n",
       "      <td>6 cylinders</td>\n",
       "      <td>gas</td>\n",
       "      <td>96800.0</td>\n",
       "      <td>automatic</td>\n",
       "      <td>SUV</td>\n",
       "      <td>white</td>\n",
       "      <td>329</td>\n",
       "      <td>2.123854</td>\n",
       "      <td>-0.016047</td>\n",
       "      <td>b</td>\n",
       "    </tr>\n",
       "    <tr>\n",
       "      <th>9992</th>\n",
       "      <td>18924.0</td>\n",
       "      <td>2017.0</td>\n",
       "      <td>ford</td>\n",
       "      <td>good</td>\n",
       "      <td>4 cylinders</td>\n",
       "      <td>gas</td>\n",
       "      <td>122612.0</td>\n",
       "      <td>automatic</td>\n",
       "      <td>sedan</td>\n",
       "      <td>silver</td>\n",
       "      <td>3588</td>\n",
       "      <td>2.202934</td>\n",
       "      <td>0.212334</td>\n",
       "      <td>b</td>\n",
       "    </tr>\n",
       "    <tr>\n",
       "      <th>9994</th>\n",
       "      <td>26269.0</td>\n",
       "      <td>2017.0</td>\n",
       "      <td>ford</td>\n",
       "      <td>excellent</td>\n",
       "      <td>6 cylinders</td>\n",
       "      <td>gas</td>\n",
       "      <td>52541.0</td>\n",
       "      <td>automatic</td>\n",
       "      <td>SUV</td>\n",
       "      <td>white</td>\n",
       "      <td>1499</td>\n",
       "      <td>2.392569</td>\n",
       "      <td>0.094751</td>\n",
       "      <td>c</td>\n",
       "    </tr>\n",
       "    <tr>\n",
       "      <th>9995</th>\n",
       "      <td>6149.0</td>\n",
       "      <td>2013.0</td>\n",
       "      <td>ford</td>\n",
       "      <td>good</td>\n",
       "      <td>4 cylinders</td>\n",
       "      <td>gas</td>\n",
       "      <td>197000.0</td>\n",
       "      <td>automatic</td>\n",
       "      <td>SUV</td>\n",
       "      <td>black</td>\n",
       "      <td>180</td>\n",
       "      <td>2.269796</td>\n",
       "      <td>0.129762</td>\n",
       "      <td>a</td>\n",
       "    </tr>\n",
       "    <tr>\n",
       "      <th>9996</th>\n",
       "      <td>9831.0</td>\n",
       "      <td>2015.0</td>\n",
       "      <td>ford</td>\n",
       "      <td>excellent</td>\n",
       "      <td>4 cylinders</td>\n",
       "      <td>gas</td>\n",
       "      <td>139000.0</td>\n",
       "      <td>automatic</td>\n",
       "      <td>SUV</td>\n",
       "      <td>white</td>\n",
       "      <td>386</td>\n",
       "      <td>2.407066</td>\n",
       "      <td>0.311618</td>\n",
       "      <td>c</td>\n",
       "    </tr>\n",
       "  </tbody>\n",
       "</table>\n",
       "<p>9218 rows × 14 columns</p>\n",
       "</div>"
      ],
      "text/plain": [
       "        price    year manufacturer  condition    cylinders fuel  odometer  \\\n",
       "0     18219.0  2008.0         ford  excellent  8 cylinders  gas   86238.0   \n",
       "1       800.0  2008.0         ford  excellent  6 cylinders  gas  170953.0   \n",
       "2     23660.0  2016.0         ford       good  8 cylinders  gas  119026.0   \n",
       "3      5335.0  2009.0         ford  excellent  4 cylinders  gas   69000.0   \n",
       "4      1597.0  1999.0         ford       good  6 cylinders  gas   59130.0   \n",
       "...       ...     ...          ...        ...          ...  ...       ...   \n",
       "9991   7589.0  2008.0         ford  excellent  6 cylinders  gas   96800.0   \n",
       "9992  18924.0  2017.0         ford       good  4 cylinders  gas  122612.0   \n",
       "9994  26269.0  2017.0         ford  excellent  6 cylinders  gas   52541.0   \n",
       "9995   6149.0  2013.0         ford       good  4 cylinders  gas  197000.0   \n",
       "9996   9831.0  2015.0         ford  excellent  4 cylinders  gas  139000.0   \n",
       "\n",
       "     transmission    type paint_color    F1        F2        F3 F4  \n",
       "0       automatic  pickup       black  5823  2.193844 -0.031986  b  \n",
       "1       automatic     SUV         red  2024  2.133691  0.097985  b  \n",
       "2       automatic   truck       white   294  2.160859  0.046984  c  \n",
       "3          manual   sedan        blue  3544  2.114929 -0.110121  c  \n",
       "4       automatic   sedan        blue  1329  1.829625 -0.060615  c  \n",
       "...           ...     ...         ...   ...       ...       ... ..  \n",
       "9991    automatic     SUV       white   329  2.123854 -0.016047  b  \n",
       "9992    automatic   sedan      silver  3588  2.202934  0.212334  b  \n",
       "9994    automatic     SUV       white  1499  2.392569  0.094751  c  \n",
       "9995    automatic     SUV       black   180  2.269796  0.129762  a  \n",
       "9996    automatic     SUV       white   386  2.407066  0.311618  c  \n",
       "\n",
       "[9218 rows x 14 columns]"
      ]
     },
     "execution_count": 4,
     "metadata": {},
     "output_type": "execute_result"
    }
   ],
   "source": [
    "#Drop rows without price (zero price)\n",
    "car_info = car_info[car_info['price']!=0]\n",
    "\n",
    "#Drop rows with NaN values\n",
    "car_info = car_info.dropna(axis=0)\n",
    "car_info"
   ]
  },
  {
   "cell_type": "code",
   "execution_count": 5,
   "metadata": {
    "ExecuteTime": {
     "end_time": "2021-02-03T23:10:10.675230Z",
     "start_time": "2021-02-03T23:10:10.651939Z"
    },
    "scrolled": false
   },
   "outputs": [
    {
     "data": {
      "text/html": [
       "<div>\n",
       "<style scoped>\n",
       "    .dataframe tbody tr th:only-of-type {\n",
       "        vertical-align: middle;\n",
       "    }\n",
       "\n",
       "    .dataframe tbody tr th {\n",
       "        vertical-align: top;\n",
       "    }\n",
       "\n",
       "    .dataframe thead th {\n",
       "        text-align: right;\n",
       "    }\n",
       "</style>\n",
       "<table border=\"1\" class=\"dataframe\">\n",
       "  <thead>\n",
       "    <tr style=\"text-align: right;\">\n",
       "      <th></th>\n",
       "      <th>price</th>\n",
       "      <th>year</th>\n",
       "      <th>manufacturer</th>\n",
       "      <th>condition</th>\n",
       "      <th>cylinders</th>\n",
       "      <th>fuel</th>\n",
       "      <th>odometer</th>\n",
       "      <th>transmission</th>\n",
       "      <th>type</th>\n",
       "      <th>paint_color</th>\n",
       "      <th>F1</th>\n",
       "      <th>F2</th>\n",
       "      <th>F3</th>\n",
       "      <th>F4</th>\n",
       "    </tr>\n",
       "  </thead>\n",
       "  <tbody>\n",
       "    <tr>\n",
       "      <th>0</th>\n",
       "      <td>18219.0</td>\n",
       "      <td>2008.0</td>\n",
       "      <td>ford</td>\n",
       "      <td>excellent</td>\n",
       "      <td>8</td>\n",
       "      <td>gas</td>\n",
       "      <td>86238.0</td>\n",
       "      <td>automatic</td>\n",
       "      <td>pickup</td>\n",
       "      <td>black</td>\n",
       "      <td>5823</td>\n",
       "      <td>2.193844</td>\n",
       "      <td>-0.031986</td>\n",
       "      <td>b</td>\n",
       "    </tr>\n",
       "    <tr>\n",
       "      <th>1</th>\n",
       "      <td>800.0</td>\n",
       "      <td>2008.0</td>\n",
       "      <td>ford</td>\n",
       "      <td>excellent</td>\n",
       "      <td>6</td>\n",
       "      <td>gas</td>\n",
       "      <td>170953.0</td>\n",
       "      <td>automatic</td>\n",
       "      <td>SUV</td>\n",
       "      <td>red</td>\n",
       "      <td>2024</td>\n",
       "      <td>2.133691</td>\n",
       "      <td>0.097985</td>\n",
       "      <td>b</td>\n",
       "    </tr>\n",
       "    <tr>\n",
       "      <th>2</th>\n",
       "      <td>23660.0</td>\n",
       "      <td>2016.0</td>\n",
       "      <td>ford</td>\n",
       "      <td>good</td>\n",
       "      <td>8</td>\n",
       "      <td>gas</td>\n",
       "      <td>119026.0</td>\n",
       "      <td>automatic</td>\n",
       "      <td>truck</td>\n",
       "      <td>white</td>\n",
       "      <td>294</td>\n",
       "      <td>2.160859</td>\n",
       "      <td>0.046984</td>\n",
       "      <td>c</td>\n",
       "    </tr>\n",
       "    <tr>\n",
       "      <th>3</th>\n",
       "      <td>5335.0</td>\n",
       "      <td>2009.0</td>\n",
       "      <td>ford</td>\n",
       "      <td>excellent</td>\n",
       "      <td>4</td>\n",
       "      <td>gas</td>\n",
       "      <td>69000.0</td>\n",
       "      <td>manual</td>\n",
       "      <td>sedan</td>\n",
       "      <td>blue</td>\n",
       "      <td>3544</td>\n",
       "      <td>2.114929</td>\n",
       "      <td>-0.110121</td>\n",
       "      <td>c</td>\n",
       "    </tr>\n",
       "    <tr>\n",
       "      <th>4</th>\n",
       "      <td>1597.0</td>\n",
       "      <td>1999.0</td>\n",
       "      <td>ford</td>\n",
       "      <td>good</td>\n",
       "      <td>6</td>\n",
       "      <td>gas</td>\n",
       "      <td>59130.0</td>\n",
       "      <td>automatic</td>\n",
       "      <td>sedan</td>\n",
       "      <td>blue</td>\n",
       "      <td>1329</td>\n",
       "      <td>1.829625</td>\n",
       "      <td>-0.060615</td>\n",
       "      <td>c</td>\n",
       "    </tr>\n",
       "  </tbody>\n",
       "</table>\n",
       "</div>"
      ],
      "text/plain": [
       "     price    year manufacturer  condition cylinders fuel  odometer  \\\n",
       "0  18219.0  2008.0         ford  excellent        8   gas   86238.0   \n",
       "1    800.0  2008.0         ford  excellent        6   gas  170953.0   \n",
       "2  23660.0  2016.0         ford       good        8   gas  119026.0   \n",
       "3   5335.0  2009.0         ford  excellent        4   gas   69000.0   \n",
       "4   1597.0  1999.0         ford       good        6   gas   59130.0   \n",
       "\n",
       "  transmission    type paint_color    F1        F2        F3 F4  \n",
       "0    automatic  pickup       black  5823  2.193844 -0.031986  b  \n",
       "1    automatic     SUV         red  2024  2.133691  0.097985  b  \n",
       "2    automatic   truck       white   294  2.160859  0.046984  c  \n",
       "3       manual   sedan        blue  3544  2.114929 -0.110121  c  \n",
       "4    automatic   sedan        blue  1329  1.829625 -0.060615  c  "
      ]
     },
     "execution_count": 5,
     "metadata": {},
     "output_type": "execute_result"
    }
   ],
   "source": [
    "# Some features in the dataset are categorical feature and they need to be encoded numerically.\n",
    "# 'cylinders' is the only ordinal variable, it can encoded by remove the string 'cylinders'\n",
    "car_info['cylinders']=car_info['cylinders'].str.strip('cylinders')\n",
    "car_info.head()"
   ]
  },
  {
   "cell_type": "code",
   "execution_count": 6,
   "metadata": {
    "ExecuteTime": {
     "end_time": "2021-02-03T23:10:30.719693Z",
     "start_time": "2021-02-03T23:10:30.715178Z"
    }
   },
   "outputs": [],
   "source": [
    "# Transfer the data type to integers\n",
    "car_info['cylinders']=car_info['cylinders'].astype('int64')"
   ]
  },
  {
   "cell_type": "code",
   "execution_count": 7,
   "metadata": {
    "ExecuteTime": {
     "end_time": "2021-02-03T23:10:32.222108Z",
     "start_time": "2021-02-03T23:10:32.199209Z"
    }
   },
   "outputs": [
    {
     "data": {
      "text/html": [
       "<div>\n",
       "<style scoped>\n",
       "    .dataframe tbody tr th:only-of-type {\n",
       "        vertical-align: middle;\n",
       "    }\n",
       "\n",
       "    .dataframe tbody tr th {\n",
       "        vertical-align: top;\n",
       "    }\n",
       "\n",
       "    .dataframe thead th {\n",
       "        text-align: right;\n",
       "    }\n",
       "</style>\n",
       "<table border=\"1\" class=\"dataframe\">\n",
       "  <thead>\n",
       "    <tr style=\"text-align: right;\">\n",
       "      <th></th>\n",
       "      <th>price</th>\n",
       "      <th>year</th>\n",
       "      <th>manufacturer</th>\n",
       "      <th>condition</th>\n",
       "      <th>cylinders</th>\n",
       "      <th>odometer</th>\n",
       "      <th>transmission</th>\n",
       "      <th>type</th>\n",
       "      <th>paint_color</th>\n",
       "      <th>F1</th>\n",
       "      <th>F2</th>\n",
       "      <th>F3</th>\n",
       "      <th>F4</th>\n",
       "    </tr>\n",
       "  </thead>\n",
       "  <tbody>\n",
       "    <tr>\n",
       "      <th>0</th>\n",
       "      <td>18219.0</td>\n",
       "      <td>2008.0</td>\n",
       "      <td>ford</td>\n",
       "      <td>excellent</td>\n",
       "      <td>8</td>\n",
       "      <td>86238.0</td>\n",
       "      <td>automatic</td>\n",
       "      <td>pickup</td>\n",
       "      <td>black</td>\n",
       "      <td>5823</td>\n",
       "      <td>2.193844</td>\n",
       "      <td>-0.031986</td>\n",
       "      <td>b</td>\n",
       "    </tr>\n",
       "    <tr>\n",
       "      <th>1</th>\n",
       "      <td>800.0</td>\n",
       "      <td>2008.0</td>\n",
       "      <td>ford</td>\n",
       "      <td>excellent</td>\n",
       "      <td>6</td>\n",
       "      <td>170953.0</td>\n",
       "      <td>automatic</td>\n",
       "      <td>SUV</td>\n",
       "      <td>red</td>\n",
       "      <td>2024</td>\n",
       "      <td>2.133691</td>\n",
       "      <td>0.097985</td>\n",
       "      <td>b</td>\n",
       "    </tr>\n",
       "    <tr>\n",
       "      <th>2</th>\n",
       "      <td>23660.0</td>\n",
       "      <td>2016.0</td>\n",
       "      <td>ford</td>\n",
       "      <td>good</td>\n",
       "      <td>8</td>\n",
       "      <td>119026.0</td>\n",
       "      <td>automatic</td>\n",
       "      <td>truck</td>\n",
       "      <td>white</td>\n",
       "      <td>294</td>\n",
       "      <td>2.160859</td>\n",
       "      <td>0.046984</td>\n",
       "      <td>c</td>\n",
       "    </tr>\n",
       "    <tr>\n",
       "      <th>3</th>\n",
       "      <td>5335.0</td>\n",
       "      <td>2009.0</td>\n",
       "      <td>ford</td>\n",
       "      <td>excellent</td>\n",
       "      <td>4</td>\n",
       "      <td>69000.0</td>\n",
       "      <td>manual</td>\n",
       "      <td>sedan</td>\n",
       "      <td>blue</td>\n",
       "      <td>3544</td>\n",
       "      <td>2.114929</td>\n",
       "      <td>-0.110121</td>\n",
       "      <td>c</td>\n",
       "    </tr>\n",
       "    <tr>\n",
       "      <th>4</th>\n",
       "      <td>1597.0</td>\n",
       "      <td>1999.0</td>\n",
       "      <td>ford</td>\n",
       "      <td>good</td>\n",
       "      <td>6</td>\n",
       "      <td>59130.0</td>\n",
       "      <td>automatic</td>\n",
       "      <td>sedan</td>\n",
       "      <td>blue</td>\n",
       "      <td>1329</td>\n",
       "      <td>1.829625</td>\n",
       "      <td>-0.060615</td>\n",
       "      <td>c</td>\n",
       "    </tr>\n",
       "  </tbody>\n",
       "</table>\n",
       "</div>"
      ],
      "text/plain": [
       "     price    year manufacturer  condition  cylinders  odometer transmission  \\\n",
       "0  18219.0  2008.0         ford  excellent          8   86238.0    automatic   \n",
       "1    800.0  2008.0         ford  excellent          6  170953.0    automatic   \n",
       "2  23660.0  2016.0         ford       good          8  119026.0    automatic   \n",
       "3   5335.0  2009.0         ford  excellent          4   69000.0       manual   \n",
       "4   1597.0  1999.0         ford       good          6   59130.0    automatic   \n",
       "\n",
       "     type paint_color    F1        F2        F3 F4  \n",
       "0  pickup       black  5823  2.193844 -0.031986  b  \n",
       "1     SUV         red  2024  2.133691  0.097985  b  \n",
       "2   truck       white   294  2.160859  0.046984  c  \n",
       "3   sedan        blue  3544  2.114929 -0.110121  c  \n",
       "4   sedan        blue  1329  1.829625 -0.060615  c  "
      ]
     },
     "execution_count": 7,
     "metadata": {},
     "output_type": "execute_result"
    }
   ],
   "source": [
    "# Drop the fuel column since it has no variability\n",
    "car_info = car_info.drop(columns=['fuel'])\n",
    "car_info.head()"
   ]
  },
  {
   "cell_type": "code",
   "execution_count": 9,
   "metadata": {
    "ExecuteTime": {
     "end_time": "2021-02-03T23:10:58.529021Z",
     "start_time": "2021-02-03T23:10:58.505469Z"
    },
    "scrolled": false
   },
   "outputs": [
    {
     "data": {
      "text/plain": [
       "(9218, 27)"
      ]
     },
     "execution_count": 9,
     "metadata": {},
     "output_type": "execute_result"
    }
   ],
   "source": [
    "# Encode the other categorical features using one hot encoding\n",
    "car_onehot = pd.get_dummies(car_info)\n",
    "car_onehot.shape"
   ]
  },
  {
   "cell_type": "code",
   "execution_count": 10,
   "metadata": {
    "ExecuteTime": {
     "end_time": "2021-02-03T23:11:08.722438Z",
     "start_time": "2021-02-03T23:11:08.710781Z"
    }
   },
   "outputs": [
    {
     "data": {
      "text/plain": [
       "(8978, 27)"
      ]
     },
     "execution_count": 10,
     "metadata": {},
     "output_type": "execute_result"
    }
   ],
   "source": [
    "# Most of these features have some outliers. Remove them by applying the normal distribution\n",
    "z_scores = stats.zscore(car_info.select_dtypes(include='float64'))\n",
    "abs_z_scores = np.abs(z_scores)\n",
    "filtered_entries = (abs_z_scores < 3).all(axis=1)\n",
    "car_df = car_onehot[filtered_entries]\n",
    "car_df.shape"
   ]
  },
  {
   "cell_type": "code",
   "execution_count": 13,
   "metadata": {
    "ExecuteTime": {
     "end_time": "2021-02-03T23:12:23.086518Z",
     "start_time": "2021-02-03T23:12:23.066429Z"
    }
   },
   "outputs": [
    {
     "name": "stdout",
     "output_type": "stream",
     "text": [
      "price                     1.000000\n",
      "year                      0.583369\n",
      "cylinders                 0.192485\n",
      "odometer                 -0.534487\n",
      "F1                        0.237476\n",
      "F2                        0.469717\n",
      "F3                        0.097212\n",
      "manufacturer_ford         0.038559\n",
      "manufacturer_subaru      -0.038559\n",
      "condition_excellent       0.052450\n",
      "condition_fair           -0.178452\n",
      "condition_good           -0.093888\n",
      "condition_like new        0.157643\n",
      "transmission_automatic    0.064706\n",
      "transmission_manual      -0.064706\n",
      "type_SUV                 -0.106911\n",
      "type_pickup               0.226169\n",
      "type_sedan               -0.291870\n",
      "type_truck                0.216281\n",
      "paint_color_black         0.033288\n",
      "paint_color_blue         -0.020105\n",
      "paint_color_red           0.002036\n",
      "paint_color_silver       -0.076639\n",
      "paint_color_white         0.044348\n",
      "F4_a                     -0.006568\n",
      "F4_b                     -0.006221\n",
      "F4_c                      0.013046\n",
      "Name: price, dtype: float64\n"
     ]
    }
   ],
   "source": [
    "# Correlation matrix to see the general relationships between predictors and prices\n",
    "corrMatrix = car_df.corr()\n",
    "print (corrMatrix.iloc[0,:])"
   ]
  },
  {
   "cell_type": "code",
   "execution_count": 15,
   "metadata": {
    "ExecuteTime": {
     "end_time": "2021-02-03T23:13:33.726226Z",
     "start_time": "2021-02-03T23:13:33.706758Z"
    }
   },
   "outputs": [
    {
     "name": "stdout",
     "output_type": "stream",
     "text": [
      "          year     cylinders     odometer             F1           F2  \\\n",
      "0  4630.580935  3.453625e+02  3589.732393   5.364554e+02  2541.054334   \n",
      "1     0.000000  1.127224e-75     0.000000  2.555239e-115     0.000000   \n",
      "\n",
      "             F3  manufacturer_ford  manufacturer_subaru  condition_excellent  \\\n",
      "0  8.563381e+01          13.365635            13.365635         2.476101e+01   \n",
      "1  2.665214e-20           0.000258             0.000258         6.610233e-07   \n",
      "\n",
      "   condition_fair  ...     type_sedan    type_truck  paint_color_black  \\\n",
      "0    2.952455e+02  ...   8.358541e+02  4.404809e+02           9.957182   \n",
      "1    3.912881e-65  ...  8.253274e-176  1.633092e-95           0.001608   \n",
      "\n",
      "   paint_color_blue  paint_color_red  paint_color_silver  paint_color_white  \\\n",
      "0          3.629564         0.037218        5.303250e+01          17.688577   \n",
      "1          0.056794         0.847026        3.557356e-13           0.000026   \n",
      "\n",
      "       F4_a      F4_b      F4_c  \n",
      "0  0.387206  0.347400  1.527864  \n",
      "1  0.533787  0.555604  0.216466  \n",
      "\n",
      "[2 rows x 26 columns]\n"
     ]
    }
   ],
   "source": [
    "# T-test to see the general relationships between predictors and prices\n",
    "#first row: t-score, second row: p-value\n",
    "t_test = f_regression(car_df.iloc[:,1:], car_df['price'])\n",
    "t_columns = car_df.columns[1:]\n",
    "t_test = pd.DataFrame(t_test, columns=t_columns)\n",
    "print(t_test)"
   ]
  },
  {
   "cell_type": "markdown",
   "metadata": {},
   "source": [
    "## Feature selection"
   ]
  },
  {
   "cell_type": "code",
   "execution_count": 16,
   "metadata": {
    "ExecuteTime": {
     "end_time": "2021-02-03T23:13:44.075884Z",
     "start_time": "2021-02-03T23:13:44.058769Z"
    },
    "scrolled": true
   },
   "outputs": [],
   "source": [
    "#Seperate predictor and the predicted variable\n",
    "car_df = shuffle(car_df)\n",
    "\n",
    "y = car_df.iloc[:,:1]\n",
    "X = car_df.iloc[:,1:]"
   ]
  },
  {
   "cell_type": "code",
   "execution_count": 168,
   "metadata": {
    "ExecuteTime": {
     "end_time": "2021-02-04T00:43:28.237260Z",
     "start_time": "2021-02-04T00:42:58.815065Z"
    }
   },
   "outputs": [
    {
     "name": "stdout",
     "output_type": "stream",
     "text": [
      "    cycle           Added_feature      neg_mse\n",
      "0       1                    year -79899728.18\n",
      "1       2               cylinders -64215237.72\n",
      "2       3                odometer -53816443.24\n",
      "3       4              type_sedan -50447176.12\n",
      "4       5                type_SUV -46306799.21\n",
      "5       6                      F3 -45185962.84\n",
      "6       7       manufacturer_ford -44572306.33\n",
      "7       8     transmission_manual -44179220.25\n",
      "8       9       paint_color_white -43911817.15\n",
      "9      10                      F1 -43662651.11\n",
      "10     11      condition_like new -43552008.49\n",
      "11     12      paint_color_silver -43495254.79\n",
      "12     13             type_pickup -43470445.23\n",
      "13     14        paint_color_blue -43444152.40\n",
      "14     15     condition_excellent -43424861.55\n",
      "15     16                    F4_a -43417140.34\n",
      "16     17          condition_fair -43412768.94\n",
      "17     18       paint_color_black -43409896.31\n",
      "18     19  transmission_automatic -43409896.31\n",
      "19     20          condition_good -43409896.31\n",
      "20     21         paint_color_red -43409896.31\n",
      "21     22     manufacturer_subaru -43409896.31\n",
      "22     23              type_truck -43409896.31\n",
      "23     24                      F2 -43414882.83\n",
      "24     25                    F4_b -43421978.31\n",
      "25     26                    F4_c -43421978.31\n"
     ]
    },
    {
     "data": {
      "image/png": "[encoded data removed]",
      "text/plain": [
       "<Figure size 432x288 with 1 Axes>"
      ]
     },
     "metadata": {
      "needs_background": "light"
     },
     "output_type": "display_data"
    }
   ],
   "source": [
    "# Build the regression model to use in feature selection\n",
    "regr = linear_model.LinearRegression()\n",
    "\n",
    "# sequantial forward selection to help identify\n",
    "sfs1 = sfs(regr,\n",
    "           k_features=26,\n",
    "           forward=True,\n",
    "           floating=False,\n",
    "           scoring='neg_mean_squared_error',\n",
    "           cv=10)\n",
    "\n",
    "sfs1 = sfs1.fit(X, y)\n",
    "\n",
    "#output the added feature dataframe\n",
    "f_cycle = []\n",
    "f_names = []\n",
    "f_added = []\n",
    "f_nmse = []\n",
    "\n",
    "for k,v in sfs1.subsets_.items():\n",
    "    f_cycle.append(k)\n",
    "    f_names.append(set(v['feature_names']))\n",
    "    f_nmse.append(v['avg_score'].round(2))\n",
    "\n",
    "for i in range(len(f_names)):\n",
    "    if i == 0:\n",
    "        f = f_names[0]\n",
    "    else:\n",
    "        f = f_names[i]^f_names[i-1]        \n",
    "    f_added.append(list(f)[0])\n",
    "\n",
    "result = pd.DataFrame({'cycle':f_cycle,'Added_feature':f_added,'neg_mse':f_nmse})\n",
    "print(result)\n",
    "\n",
    "# Generate the performance figure\n",
    "fig = plot_sfs(sfs1.get_metric_dict(), kind='std_err')\n",
    "\n",
    "plt.title('Sequential Forward Selection (w. std_err)')\n",
    "plt.grid()\n",
    "plt.show()"
   ]
  },
  {
   "cell_type": "code",
   "execution_count": 173,
   "metadata": {
    "ExecuteTime": {
     "end_time": "2021-02-04T01:37:44.495575Z",
     "start_time": "2021-02-04T01:37:44.489242Z"
    }
   },
   "outputs": [],
   "source": [
    "# shuffle data for backward selection\n",
    "car_df = shuffle(car_df)\n",
    "\n",
    "y = car_df.iloc[:,:1]\n",
    "X = car_df.iloc[:,1:]"
   ]
  },
  {
   "cell_type": "code",
   "execution_count": 240,
   "metadata": {
    "ExecuteTime": {
     "end_time": "2021-02-04T02:56:17.282003Z",
     "start_time": "2021-02-04T02:55:38.546032Z"
    }
   },
   "outputs": [
    {
     "name": "stdout",
     "output_type": "stream",
     "text": [
      "    cycle        Removed_features      neg_mse\n",
      "0      26                    year -43406872.62\n",
      "1      25              type_sedan -43403777.94\n",
      "2      24                type_SUV -43403777.94\n",
      "3      23                odometer -43403777.94\n",
      "4      22               cylinders -43397501.35\n",
      "5      21                      F3 -43397501.35\n",
      "6      20     manufacturer_subaru -43397501.35\n",
      "7      19     transmission_manual -43397501.35\n",
      "8      18       paint_color_white -43397501.35\n",
      "9      17                      F1 -43402566.50\n",
      "10     16          condition_good -43415811.49\n",
      "11     15     condition_excellent -43433701.64\n",
      "12     14          condition_fair -43462470.92\n",
      "13     13       paint_color_black -43511797.18\n",
      "14     12         paint_color_red -43578265.81\n",
      "15     11             type_pickup -43614340.71\n",
      "16     10                    F4_c -43642553.49\n",
      "17      9        paint_color_blue -43894500.26\n",
      "18      8  transmission_automatic -44164707.07\n",
      "19      7       manufacturer_ford -44553365.76\n",
      "20      6      condition_like new -45162967.29\n",
      "21      5              type_truck -46283718.22\n",
      "22      4                    F4_b -48024550.86\n",
      "23      3                    F4_a -56280663.69\n",
      "24      2      paint_color_silver -67198776.61\n",
      "25      1                      F2 -79879436.04\n"
     ]
    },
    {
     "data": {
      "image/png": "[encoded data removed]",
      "text/plain": [
       "<Figure size 432x288 with 1 Axes>"
      ]
     },
     "metadata": {
      "needs_background": "light"
     },
     "output_type": "display_data"
    }
   ],
   "source": [
    "# Build the regression model to use in feature selection\n",
    "regr = linear_model.LinearRegression()\n",
    "\n",
    "sbs1 = sfs(regr,\n",
    "           k_features=1,\n",
    "           forward=False,\n",
    "           floating=False,\n",
    "           scoring='neg_mean_squared_error',\n",
    "           cv=10)\n",
    "\n",
    "sbs1 = sbs1.fit(X, y)\n",
    "\n",
    "#output the added feature dataframe\n",
    "b_cycle = []\n",
    "b_names = []\n",
    "b_removed = []\n",
    "b_nmse = []\n",
    "\n",
    "for k,v in sbs1.subsets_.items():\n",
    "    b_cycle.append(k)\n",
    "    b_names.append(set(v['feature_names']))\n",
    "    b_nmse.append(v['avg_score'].round(2))\n",
    "\n",
    "for i in range(len(b_names)-1,-1,-1):\n",
    "    if i == len(b_names)-1:\n",
    "        f = b_names[i]\n",
    "    else:\n",
    "        f = b_names[i]^b_names[i+1]        \n",
    "    b_removed.append(list(f)[0])\n",
    "\n",
    "result = pd.DataFrame({'cycle':b_cycle,'Removed_features':b_removed,'neg_mse':b_nmse})\n",
    "print(result)\n",
    "\n",
    "# Generate the performance figure               \n",
    "fig = plot_sfs(sbs1.get_metric_dict(), kind='std_err')\n",
    "\n",
    "plt.title('Sequential Backward Selection (w. std_err)')\n",
    "plt.grid()\n",
    "plt.show()"
   ]
  },
  {
   "cell_type": "code",
   "execution_count": 180,
   "metadata": {
    "ExecuteTime": {
     "end_time": "2021-02-04T01:46:02.568685Z",
     "start_time": "2021-02-04T01:46:02.556208Z"
    },
    "scrolled": true
   },
   "outputs": [
    {
     "name": "stdout",
     "output_type": "stream",
     "text": [
      "                      price      year  cylinders  odometer        F1  \\\n",
      "price              1.000000  0.583369   0.192485 -0.534487  0.237476   \n",
      "year               0.583369  1.000000  -0.265273 -0.527289  0.218687   \n",
      "cylinders          0.192485 -0.265273   1.000000  0.197708  0.009211   \n",
      "odometer          -0.534487 -0.527289   0.197708  1.000000 -0.229027   \n",
      "F1                 0.237476  0.218687   0.009211 -0.229027  1.000000   \n",
      "F3                 0.097212  0.004921  -0.004537 -0.001873 -0.004789   \n",
      "type_SUV          -0.106911  0.057279  -0.199594  0.025473 -0.011972   \n",
      "type_sedan        -0.291870  0.053826  -0.491184 -0.056789 -0.025318   \n",
      "manufacturer_ford  0.038559 -0.073211   0.401765  0.065352  0.031621   \n",
      "\n",
      "                         F3  type_SUV  type_sedan  manufacturer_ford  \n",
      "price              0.097212 -0.106911   -0.291870           0.038559  \n",
      "year               0.004921  0.057279    0.053826          -0.073211  \n",
      "cylinders         -0.004537 -0.199594   -0.491184           0.401765  \n",
      "odometer          -0.001873  0.025473   -0.056789           0.065352  \n",
      "F1                -0.004789 -0.011972   -0.025318           0.031621  \n",
      "F3                 1.000000 -0.003037    0.006303           0.006787  \n",
      "type_SUV          -0.003037  1.000000   -0.407404          -0.121840  \n",
      "type_sedan         0.006303 -0.407404    1.000000          -0.183356  \n",
      "manufacturer_ford  0.006787 -0.121840   -0.183356           1.000000  \n"
     ]
    }
   ],
   "source": [
    "#Combine the result from the forward selection and backward selection, below features are selected\n",
    "car_sf = car_df[['price','year','cylinders','odometer','F1','F3','type_SUV','type_sedan', 'manufacturer_ford']]\n",
    "\n",
    "#Examine the correlation betweeen each features\n",
    "corrMatrix = car_sf.corr()\n",
    "print (corrMatrix)"
   ]
  },
  {
   "cell_type": "code",
   "execution_count": 181,
   "metadata": {
    "ExecuteTime": {
     "end_time": "2021-02-04T01:46:03.797671Z",
     "start_time": "2021-02-04T01:46:03.788877Z"
    }
   },
   "outputs": [
    {
     "data": {
      "text/plain": [
       "(array([4630.58093475,  345.36248535, 3589.73239299,  536.45536555,\n",
       "          85.63381321,  103.78070561,  835.85410678,   13.36563516]),\n",
       " array([0.00000000e+000, 1.12722415e-075, 0.00000000e+000, 2.55523918e-115,\n",
       "        2.66521427e-020, 3.06103295e-024, 8.25327423e-176, 2.57741389e-004]))"
      ]
     },
     "execution_count": 181,
     "metadata": {},
     "output_type": "execute_result"
    }
   ],
   "source": [
    "# F test between each features and price, all the selected features are statiscally significant related to the price\n",
    "f_regression(car_sf.iloc[:,1:], car_sf['price'])"
   ]
  },
  {
   "cell_type": "markdown",
   "metadata": {},
   "source": [
    "### Model training and validation"
   ]
  },
  {
   "cell_type": "code",
   "execution_count": 333,
   "metadata": {
    "ExecuteTime": {
     "end_time": "2021-02-04T06:14:33.005561Z",
     "start_time": "2021-02-04T06:14:32.997784Z"
    }
   },
   "outputs": [],
   "source": [
    "#Split training and test set\n",
    "car_sf = shuffle(car_sf)\n",
    "\n",
    "new_y_train = car_sf.iloc[:-1800,0]#4/5 of the dataset\n",
    "new_y_test = car_sf.iloc[-1800:,0]\n",
    "\n",
    "new_X_train = car_sf.iloc[:-1800,1:] #1/5 of the dataset\n",
    "new_X_test = car_sf.iloc[-1800:,1:]\n"
   ]
  },
  {
   "cell_type": "markdown",
   "metadata": {},
   "source": [
    "#### Linear Regression"
   ]
  },
  {
   "cell_type": "code",
   "execution_count": 305,
   "metadata": {
    "ExecuteTime": {
     "end_time": "2021-02-04T05:48:07.821234Z",
     "start_time": "2021-02-04T05:48:07.812104Z"
    }
   },
   "outputs": [],
   "source": [
    "# Linear regression scores\n",
    "def lr(X,y):\n",
    "    regr = linear_model.LinearRegression()\n",
    "    regr.fit(X,y)\n",
    "\n",
    "    #k-fold cross validation\n",
    "    lr_scores = cross_val_score(regr,X,y, cv=10)\n",
    "    return lr_scores"
   ]
  },
  {
   "cell_type": "code",
   "execution_count": 311,
   "metadata": {
    "ExecuteTime": {
     "end_time": "2021-02-04T05:49:35.162294Z",
     "start_time": "2021-02-04T05:49:35.056342Z"
    },
    "scrolled": true
   },
   "outputs": [
    {
     "name": "stdout",
     "output_type": "stream",
     "text": [
      "[0.59315734 0.61261799 0.62782315 0.64995592 0.6325803  0.65431507\n",
      " 0.63538952 0.63285843 0.62534283 0.62842596]\n",
      "The average score is 0.6292466512369657.\n"
     ]
    }
   ],
   "source": [
    "# calculate average score for linear regression model\n",
    "lr_scores = lr(new_X_train, new_y_train)\n",
    "print(lr_scores)\n",
    "print('The average score is %s.'%(sum(lr_scores)/len(lr_scores)))"
   ]
  },
  {
   "cell_type": "code",
   "execution_count": 312,
   "metadata": {
    "ExecuteTime": {
     "end_time": "2021-02-04T05:50:06.628770Z",
     "start_time": "2021-02-04T05:50:05.289646Z"
    }
   },
   "outputs": [],
   "source": [
    "# run the linear regression for 10 times and save each scores\n",
    "i=0\n",
    "lr_score_list = []\n",
    "while i < 10:\n",
    "    car_sf = shuffle(car_sf)\n",
    "    new_y_train = car_sf.iloc[:-1800,0]\n",
    "    new_X_train = car_sf.iloc[:-1800,1:] \n",
    "    \n",
    "    lr_scores = lr(new_X_train, new_y_train)\n",
    "    lr_score_list.extend(lr_scores)\n",
    "    i+=1"
   ]
  },
  {
   "cell_type": "markdown",
   "metadata": {},
   "source": [
    "#### Ridge"
   ]
  },
  {
   "cell_type": "code",
   "execution_count": 313,
   "metadata": {
    "ExecuteTime": {
     "end_time": "2021-02-04T05:51:03.604208Z",
     "start_time": "2021-02-04T05:51:03.600595Z"
    }
   },
   "outputs": [],
   "source": [
    "# Ridge regression scores\n",
    "def rr(X,y,a):\n",
    "    reg_ridge = linear_model.Ridge(alpha=a)\n",
    "    reg_ridge.fit(X,y)\n",
    "\n",
    "    #k-fold cross validation\n",
    "    ridge_scores = cross_val_score(reg_ridge,X,y, cv=10)\n",
    "    return ridge_scores\n"
   ]
  },
  {
   "cell_type": "code",
   "execution_count": 314,
   "metadata": {
    "ExecuteTime": {
     "end_time": "2021-02-04T05:51:04.275460Z",
     "start_time": "2021-02-04T05:51:04.190479Z"
    }
   },
   "outputs": [
    {
     "name": "stdout",
     "output_type": "stream",
     "text": [
      "[0.64501234 0.57898818 0.66504391 0.64094116 0.66626588 0.62893364\n",
      " 0.66141296 0.61755421 0.5974632  0.66241219]\n",
      "The average score is 0.636402767166782.\n"
     ]
    }
   ],
   "source": [
    "# calculate average score for ridge regression model\n",
    "ridge_scores = rr(new_X_train, new_y_train, a=0.01)\n",
    "print(ridge_scores)\n",
    "print('The average score is %s.'%(sum(ridge_scores)/len(ridge_scores)))"
   ]
  },
  {
   "cell_type": "code",
   "execution_count": 315,
   "metadata": {
    "ExecuteTime": {
     "end_time": "2021-02-04T05:51:06.006925Z",
     "start_time": "2021-02-04T05:51:05.244438Z"
    }
   },
   "outputs": [],
   "source": [
    "# run the ridge regression for 10 times and save each scores\n",
    "i=0\n",
    "rr_score_list = []\n",
    "while i < 10:\n",
    "    car_sf = shuffle(car_sf)\n",
    "    new_y_train = car_sf.iloc[:-1800,0]\n",
    "    new_X_train = car_sf.iloc[:-1800,1:] \n",
    "    \n",
    "    rr_scores = rr(new_X_train, new_y_train, a=0.01)\n",
    "    rr_score_list.extend(rr_scores)\n",
    "    i+=1"
   ]
  },
  {
   "cell_type": "markdown",
   "metadata": {},
   "source": [
    "#### LASSO"
   ]
  },
  {
   "cell_type": "code",
   "execution_count": 320,
   "metadata": {
    "ExecuteTime": {
     "end_time": "2021-02-04T05:52:27.459501Z",
     "start_time": "2021-02-04T05:52:27.455458Z"
    }
   },
   "outputs": [],
   "source": [
    "# LASSO regression scores\n",
    "def ls(X,y,a):\n",
    "    reg_lasso=linear_model.Lasso(alpha=a)\n",
    "    reg_lasso.fit(new_X_train, new_y_train)\n",
    "\n",
    "    #k-fold cross validation\n",
    "    lasso_scores = cross_val_score(reg_lasso,new_X_train, new_y_train, cv=10)\n",
    "    return lasso_scores"
   ]
  },
  {
   "cell_type": "code",
   "execution_count": 321,
   "metadata": {
    "ExecuteTime": {
     "end_time": "2021-02-04T05:52:28.642131Z",
     "start_time": "2021-02-04T05:52:28.431714Z"
    }
   },
   "outputs": [
    {
     "name": "stdout",
     "output_type": "stream",
     "text": [
      "[0.6953081  0.61232699 0.57777902 0.61630112 0.62796979 0.61702557\n",
      " 0.63217593 0.61557781 0.67551837 0.64002661]\n",
      "The average score is 0.6310009312826492.\n"
     ]
    }
   ],
   "source": [
    "# calculate average score for LASSO regression model\n",
    "lasso_scores = ls(new_X_train, new_y_train, a=0.1)\n",
    "print(lasso_scores)\n",
    "print('The average score is %s.'%(sum(lasso_scores)/len(lasso_scores)))"
   ]
  },
  {
   "cell_type": "code",
   "execution_count": 322,
   "metadata": {
    "ExecuteTime": {
     "end_time": "2021-02-04T05:52:31.171814Z",
     "start_time": "2021-02-04T05:52:29.650440Z"
    }
   },
   "outputs": [],
   "source": [
    "# run the LASSO regression for 10 times and save each scores\n",
    "i=0\n",
    "ls_score_list = []\n",
    "while i < 10:\n",
    "    car_sf = shuffle(car_sf)\n",
    "    new_y_train = car_sf.iloc[:-1800,0]\n",
    "    new_X_train = car_sf.iloc[:-1800,1:] \n",
    "    \n",
    "    ls_scores = ls(new_X_train, new_y_train, a=0.01)\n",
    "    ls_score_list.extend(ls_scores)\n",
    "    i+=1"
   ]
  },
  {
   "cell_type": "markdown",
   "metadata": {},
   "source": [
    "### Elastic Net"
   ]
  },
  {
   "cell_type": "code",
   "execution_count": 323,
   "metadata": {
    "ExecuteTime": {
     "end_time": "2021-02-04T05:52:32.462521Z",
     "start_time": "2021-02-04T05:52:32.458790Z"
    }
   },
   "outputs": [],
   "source": [
    "# Elastic Nest regression scores\n",
    "def en(X,y,a):    \n",
    "    reg_elastic=linear_model.ElasticNet(alpha=a)\n",
    "    reg_elastic.fit(new_X_train, new_y_train)\n",
    "\n",
    "    #k-fold cross validation\n",
    "    elastic_scores = cross_val_score(reg_elastic,new_X_train, new_y_train, cv=10)\n",
    "    return elastic_scores"
   ]
  },
  {
   "cell_type": "code",
   "execution_count": 324,
   "metadata": {
    "ExecuteTime": {
     "end_time": "2021-02-04T05:52:33.570493Z",
     "start_time": "2021-02-04T05:52:33.413110Z"
    }
   },
   "outputs": [
    {
     "name": "stdout",
     "output_type": "stream",
     "text": [
      "[0.64616375 0.60964355 0.65463232 0.59735782 0.64950964 0.64293573\n",
      " 0.67042174 0.61198257 0.60959951 0.62548207]\n",
      "The average score is 0.6317728689205413.\n"
     ]
    }
   ],
   "source": [
    "# calculate average score for Elastic Net regression model\n",
    "elastic_scores = en(new_X_train, new_y_train, a=0.001)\n",
    "print(elastic_scores)\n",
    "print('The average score is %s.'%(sum(elastic_scores)/len(elastic_scores)))"
   ]
  },
  {
   "cell_type": "code",
   "execution_count": 325,
   "metadata": {
    "ExecuteTime": {
     "end_time": "2021-02-04T05:52:40.593073Z",
     "start_time": "2021-02-04T05:52:39.322062Z"
    }
   },
   "outputs": [],
   "source": [
    "# run the Elastic Net regression for 10 times and save each scores\n",
    "i=0\n",
    "en_score_list = []\n",
    "while i < 10:\n",
    "    car_sf = shuffle(car_sf)\n",
    "    new_y_train = car_sf.iloc[:-1800,0]\n",
    "    new_X_train = car_sf.iloc[:-1800,1:] \n",
    "    \n",
    "    en_scores = en(new_X_train, new_y_train, a=0.01)\n",
    "    en_score_list.extend(en_scores)\n",
    "    i+=1"
   ]
  },
  {
   "cell_type": "markdown",
   "metadata": {},
   "source": [
    "#### Model Evaluation"
   ]
  },
  {
   "cell_type": "code",
   "execution_count": 329,
   "metadata": {
    "ExecuteTime": {
     "end_time": "2021-02-04T05:55:17.446215Z",
     "start_time": "2021-02-04T05:55:17.081856Z"
    }
   },
   "outputs": [
    {
     "data": {
      "image/png": "[encoded data removed]",
      "text/plain": [
       "<Figure size 432x288 with 1 Axes>"
      ]
     },
     "metadata": {
      "needs_background": "light"
     },
     "output_type": "display_data"
    }
   ],
   "source": [
    "# R2 score distribution of each model\n",
    "model_evlu = pd.DataFrame({'Linear':lr_score_list, 'Ridge':rr_score_list, 'LASSO':ls_score_list, 'Elastic_Net': en_score_list })\n",
    "boxplot = model_evlu.boxplot()"
   ]
  },
  {
   "cell_type": "code",
   "execution_count": 332,
   "metadata": {
    "ExecuteTime": {
     "end_time": "2021-02-04T05:58:46.651480Z",
     "start_time": "2021-02-04T05:58:46.647722Z"
    }
   },
   "outputs": [
    {
     "name": "stdout",
     "output_type": "stream",
     "text": [
      "F_onewayResult(statistic=0.5613207187342808, pvalue=0.6408290784714957)\n"
     ]
    }
   ],
   "source": [
    "#Check if significant difference exists\n",
    "anova = stats.f_oneway(lr_score_list, rr_score_list, ls_score_list, en_score_list)\n",
    "print(anova)"
   ]
  },
  {
   "cell_type": "markdown",
   "metadata": {},
   "source": [
    "### Final test"
   ]
  },
  {
   "cell_type": "code",
   "execution_count": 337,
   "metadata": {
    "ExecuteTime": {
     "end_time": "2021-02-04T07:38:40.195444Z",
     "start_time": "2021-02-04T07:38:39.883730Z"
    }
   },
   "outputs": [
    {
     "data": {
      "text/html": [
       "<div>\n",
       "<style scoped>\n",
       "    .dataframe tbody tr th:only-of-type {\n",
       "        vertical-align: middle;\n",
       "    }\n",
       "\n",
       "    .dataframe tbody tr th {\n",
       "        vertical-align: top;\n",
       "    }\n",
       "\n",
       "    .dataframe thead th {\n",
       "        text-align: right;\n",
       "    }\n",
       "</style>\n",
       "<table border=\"1\" class=\"dataframe\">\n",
       "  <thead>\n",
       "    <tr style=\"text-align: right;\">\n",
       "      <th></th>\n",
       "      <th>year</th>\n",
       "      <th>cylinders</th>\n",
       "      <th>odometer</th>\n",
       "      <th>F1</th>\n",
       "      <th>F3</th>\n",
       "      <th>type_SUV</th>\n",
       "      <th>type_sedan</th>\n",
       "      <th>manufacturer_ford</th>\n",
       "    </tr>\n",
       "  </thead>\n",
       "  <tbody>\n",
       "    <tr>\n",
       "      <th>count</th>\n",
       "      <td>1800.000000</td>\n",
       "      <td>1800.000000</td>\n",
       "      <td>1800.000000</td>\n",
       "      <td>1800.000000</td>\n",
       "      <td>1800.000000</td>\n",
       "      <td>1800.000000</td>\n",
       "      <td>1800.000000</td>\n",
       "      <td>1800.000000</td>\n",
       "    </tr>\n",
       "    <tr>\n",
       "      <th>mean</th>\n",
       "      <td>2010.874444</td>\n",
       "      <td>5.897778</td>\n",
       "      <td>110149.646111</td>\n",
       "      <td>1572.727778</td>\n",
       "      <td>0.099111</td>\n",
       "      <td>0.314444</td>\n",
       "      <td>0.286111</td>\n",
       "      <td>0.884444</td>\n",
       "    </tr>\n",
       "    <tr>\n",
       "      <th>std</th>\n",
       "      <td>5.653101</td>\n",
       "      <td>1.608273</td>\n",
       "      <td>60035.202967</td>\n",
       "      <td>2135.256899</td>\n",
       "      <td>0.099555</td>\n",
       "      <td>0.464423</td>\n",
       "      <td>0.452068</td>\n",
       "      <td>0.319780</td>\n",
       "    </tr>\n",
       "    <tr>\n",
       "      <th>min</th>\n",
       "      <td>1988.000000</td>\n",
       "      <td>4.000000</td>\n",
       "      <td>0.000000</td>\n",
       "      <td>7.000000</td>\n",
       "      <td>-0.198324</td>\n",
       "      <td>0.000000</td>\n",
       "      <td>0.000000</td>\n",
       "      <td>0.000000</td>\n",
       "    </tr>\n",
       "    <tr>\n",
       "      <th>25%</th>\n",
       "      <td>2008.000000</td>\n",
       "      <td>4.000000</td>\n",
       "      <td>66958.750000</td>\n",
       "      <td>318.750000</td>\n",
       "      <td>0.029112</td>\n",
       "      <td>0.000000</td>\n",
       "      <td>0.000000</td>\n",
       "      <td>1.000000</td>\n",
       "    </tr>\n",
       "    <tr>\n",
       "      <th>50%</th>\n",
       "      <td>2012.000000</td>\n",
       "      <td>6.000000</td>\n",
       "      <td>110642.000000</td>\n",
       "      <td>774.500000</td>\n",
       "      <td>0.101366</td>\n",
       "      <td>0.000000</td>\n",
       "      <td>0.000000</td>\n",
       "      <td>1.000000</td>\n",
       "    </tr>\n",
       "    <tr>\n",
       "      <th>75%</th>\n",
       "      <td>2015.000000</td>\n",
       "      <td>8.000000</td>\n",
       "      <td>149000.000000</td>\n",
       "      <td>2119.250000</td>\n",
       "      <td>0.167321</td>\n",
       "      <td>1.000000</td>\n",
       "      <td>1.000000</td>\n",
       "      <td>1.000000</td>\n",
       "    </tr>\n",
       "    <tr>\n",
       "      <th>max</th>\n",
       "      <td>2021.000000</td>\n",
       "      <td>8.000000</td>\n",
       "      <td>336000.000000</td>\n",
       "      <td>21067.000000</td>\n",
       "      <td>0.381452</td>\n",
       "      <td>1.000000</td>\n",
       "      <td>1.000000</td>\n",
       "      <td>1.000000</td>\n",
       "    </tr>\n",
       "  </tbody>\n",
       "</table>\n",
       "</div>"
      ],
      "text/plain": [
       "              year    cylinders       odometer            F1           F3  \\\n",
       "count  1800.000000  1800.000000    1800.000000   1800.000000  1800.000000   \n",
       "mean   2010.874444     5.897778  110149.646111   1572.727778     0.099111   \n",
       "std       5.653101     1.608273   60035.202967   2135.256899     0.099555   \n",
       "min    1988.000000     4.000000       0.000000      7.000000    -0.198324   \n",
       "25%    2008.000000     4.000000   66958.750000    318.750000     0.029112   \n",
       "50%    2012.000000     6.000000  110642.000000    774.500000     0.101366   \n",
       "75%    2015.000000     8.000000  149000.000000   2119.250000     0.167321   \n",
       "max    2021.000000     8.000000  336000.000000  21067.000000     0.381452   \n",
       "\n",
       "          type_SUV   type_sedan  manufacturer_ford  \n",
       "count  1800.000000  1800.000000        1800.000000  \n",
       "mean      0.314444     0.286111           0.884444  \n",
       "std       0.464423     0.452068           0.319780  \n",
       "min       0.000000     0.000000           0.000000  \n",
       "25%       0.000000     0.000000           1.000000  \n",
       "50%       0.000000     0.000000           1.000000  \n",
       "75%       1.000000     1.000000           1.000000  \n",
       "max       1.000000     1.000000           1.000000  "
      ]
     },
     "execution_count": 337,
     "metadata": {},
     "output_type": "execute_result"
    }
   ],
   "source": [
    "#test set description\n",
    "new_X_test.describe()"
   ]
  },
  {
   "cell_type": "code",
   "execution_count": 335,
   "metadata": {
    "ExecuteTime": {
     "end_time": "2021-02-04T06:15:43.215906Z",
     "start_time": "2021-02-04T06:15:43.197747Z"
    }
   },
   "outputs": [
    {
     "name": "stdout",
     "output_type": "stream",
     "text": [
      "Coefficients: \n",
      " [ 8.94396286e+02  1.28045226e+03 -5.83395092e-02  2.55200860e-01\n",
      "  1.05515960e+04 -5.59405195e+03 -8.72992507e+03 -2.81743653e+03]\n",
      "Intercept: \n",
      " -1780195.3522510473\n",
      "Mean squared error: 39897663.38\n",
      "Coefficient of determination: 0.677\n"
     ]
    }
   ],
   "source": [
    "#Train and apply the LASSO model to the test set\n",
    "reg_lasso=linear_model.Lasso(alpha=0.1)\n",
    "reg_lasso.fit(new_X_train, new_y_train)\n",
    "new_y_pred = reg_lasso.predict(new_X_test)\n",
    "                               \n",
    "print('Coefficients: \\n', reg_lasso.coef_)\n",
    "print('Intercept: \\n', reg_lasso.intercept_)\n",
    "\n",
    "# The mean squared error\n",
    "print('Mean squared error: %.2f'\n",
    "      % mean_squared_error(new_y_test, new_y_pred))\n",
    "\n",
    "# The coefficient of determination: 1 is perfect prediction\n",
    "print('Coefficient of determination: %.3f'\n",
    "      % r2_score(new_y_test, new_y_pred))"
   ]
  },
  {
   "cell_type": "markdown",
   "metadata": {},
   "source": [
    "## Extra: Kaggle Challenge"
   ]
  },
  {
   "cell_type": "code",
   "execution_count": 158,
   "metadata": {
    "ExecuteTime": {
     "end_time": "2021-02-04T00:31:09.618586Z",
     "start_time": "2021-02-04T00:31:09.593360Z"
    },
    "scrolled": true
   },
   "outputs": [
    {
     "data": {
      "text/html": [
       "<div>\n",
       "<style scoped>\n",
       "    .dataframe tbody tr th:only-of-type {\n",
       "        vertical-align: middle;\n",
       "    }\n",
       "\n",
       "    .dataframe tbody tr th {\n",
       "        vertical-align: top;\n",
       "    }\n",
       "\n",
       "    .dataframe thead th {\n",
       "        text-align: right;\n",
       "    }\n",
       "</style>\n",
       "<table border=\"1\" class=\"dataframe\">\n",
       "  <thead>\n",
       "    <tr style=\"text-align: right;\">\n",
       "      <th></th>\n",
       "      <th>row_number</th>\n",
       "      <th>year</th>\n",
       "      <th>manufacturer</th>\n",
       "      <th>condition</th>\n",
       "      <th>cylinders</th>\n",
       "      <th>fuel</th>\n",
       "      <th>odometer</th>\n",
       "      <th>transmission</th>\n",
       "      <th>type</th>\n",
       "      <th>paint_color</th>\n",
       "      <th>F1</th>\n",
       "      <th>F2</th>\n",
       "      <th>F3</th>\n",
       "      <th>F4</th>\n",
       "    </tr>\n",
       "  </thead>\n",
       "  <tbody>\n",
       "    <tr>\n",
       "      <th>0</th>\n",
       "      <td>0</td>\n",
       "      <td>2005.0</td>\n",
       "      <td>ford</td>\n",
       "      <td>good</td>\n",
       "      <td>6 cylinders</td>\n",
       "      <td>gas</td>\n",
       "      <td>100963.0</td>\n",
       "      <td>automatic</td>\n",
       "      <td>sedan</td>\n",
       "      <td>red</td>\n",
       "      <td>437</td>\n",
       "      <td>2.063736</td>\n",
       "      <td>0.006316</td>\n",
       "      <td>b</td>\n",
       "    </tr>\n",
       "    <tr>\n",
       "      <th>1</th>\n",
       "      <td>1</td>\n",
       "      <td>2018.0</td>\n",
       "      <td>ford</td>\n",
       "      <td>excellent</td>\n",
       "      <td>6 cylinders</td>\n",
       "      <td>gas</td>\n",
       "      <td>51473.0</td>\n",
       "      <td>automatic</td>\n",
       "      <td>pickup</td>\n",
       "      <td>black</td>\n",
       "      <td>4160</td>\n",
       "      <td>2.544161</td>\n",
       "      <td>0.113114</td>\n",
       "      <td>c</td>\n",
       "    </tr>\n",
       "    <tr>\n",
       "      <th>2</th>\n",
       "      <td>2</td>\n",
       "      <td>2013.0</td>\n",
       "      <td>ford</td>\n",
       "      <td>excellent</td>\n",
       "      <td>8 cylinders</td>\n",
       "      <td>gas</td>\n",
       "      <td>170000.0</td>\n",
       "      <td>automatic</td>\n",
       "      <td>truck</td>\n",
       "      <td>white</td>\n",
       "      <td>3836</td>\n",
       "      <td>2.316476</td>\n",
       "      <td>0.061427</td>\n",
       "      <td>a</td>\n",
       "    </tr>\n",
       "    <tr>\n",
       "      <th>3</th>\n",
       "      <td>3</td>\n",
       "      <td>2016.0</td>\n",
       "      <td>ford</td>\n",
       "      <td>good</td>\n",
       "      <td>4 cylinders</td>\n",
       "      <td>gas</td>\n",
       "      <td>83755.0</td>\n",
       "      <td>automatic</td>\n",
       "      <td>sedan</td>\n",
       "      <td>white</td>\n",
       "      <td>1690</td>\n",
       "      <td>2.338129</td>\n",
       "      <td>0.064887</td>\n",
       "      <td>c</td>\n",
       "    </tr>\n",
       "    <tr>\n",
       "      <th>4</th>\n",
       "      <td>4</td>\n",
       "      <td>2011.0</td>\n",
       "      <td>ford</td>\n",
       "      <td>excellent</td>\n",
       "      <td>4 cylinders</td>\n",
       "      <td>gas</td>\n",
       "      <td>61434.0</td>\n",
       "      <td>automatic</td>\n",
       "      <td>sedan</td>\n",
       "      <td>silver</td>\n",
       "      <td>3293</td>\n",
       "      <td>2.234623</td>\n",
       "      <td>0.215401</td>\n",
       "      <td>b</td>\n",
       "    </tr>\n",
       "  </tbody>\n",
       "</table>\n",
       "</div>"
      ],
      "text/plain": [
       "   row_number    year manufacturer  condition    cylinders fuel  odometer  \\\n",
       "0           0  2005.0         ford       good  6 cylinders  gas  100963.0   \n",
       "1           1  2018.0         ford  excellent  6 cylinders  gas   51473.0   \n",
       "2           2  2013.0         ford  excellent  8 cylinders  gas  170000.0   \n",
       "3           3  2016.0         ford       good  4 cylinders  gas   83755.0   \n",
       "4           4  2011.0         ford  excellent  4 cylinders  gas   61434.0   \n",
       "\n",
       "  transmission    type paint_color    F1        F2        F3 F4  \n",
       "0    automatic   sedan         red   437  2.063736  0.006316  b  \n",
       "1    automatic  pickup       black  4160  2.544161  0.113114  c  \n",
       "2    automatic   truck       white  3836  2.316476  0.061427  a  \n",
       "3    automatic   sedan       white  1690  2.338129  0.064887  c  \n",
       "4    automatic   sedan      silver  3293  2.234623  0.215401  b  "
      ]
     },
     "execution_count": 158,
     "metadata": {},
     "output_type": "execute_result"
    }
   ],
   "source": [
    "challenge = pd.read_csv('./task1/used_car_dataset_PREDICT.csv')\n",
    "challenge.head()"
   ]
  },
  {
   "cell_type": "code",
   "execution_count": 159,
   "metadata": {
    "ExecuteTime": {
     "end_time": "2021-02-04T00:31:11.752458Z",
     "start_time": "2021-02-04T00:31:11.732581Z"
    }
   },
   "outputs": [
    {
     "data": {
      "text/html": [
       "<div>\n",
       "<style scoped>\n",
       "    .dataframe tbody tr th:only-of-type {\n",
       "        vertical-align: middle;\n",
       "    }\n",
       "\n",
       "    .dataframe tbody tr th {\n",
       "        vertical-align: top;\n",
       "    }\n",
       "\n",
       "    .dataframe thead th {\n",
       "        text-align: right;\n",
       "    }\n",
       "</style>\n",
       "<table border=\"1\" class=\"dataframe\">\n",
       "  <thead>\n",
       "    <tr style=\"text-align: right;\">\n",
       "      <th></th>\n",
       "      <th>row_number</th>\n",
       "      <th>year</th>\n",
       "      <th>manufacturer</th>\n",
       "      <th>condition</th>\n",
       "      <th>cylinders</th>\n",
       "      <th>fuel</th>\n",
       "      <th>odometer</th>\n",
       "      <th>transmission</th>\n",
       "      <th>type</th>\n",
       "      <th>paint_color</th>\n",
       "      <th>F1</th>\n",
       "      <th>F2</th>\n",
       "      <th>F3</th>\n",
       "      <th>F4</th>\n",
       "    </tr>\n",
       "  </thead>\n",
       "  <tbody>\n",
       "    <tr>\n",
       "      <th>0</th>\n",
       "      <td>0</td>\n",
       "      <td>2005.0</td>\n",
       "      <td>ford</td>\n",
       "      <td>good</td>\n",
       "      <td>6</td>\n",
       "      <td>gas</td>\n",
       "      <td>100963.0</td>\n",
       "      <td>automatic</td>\n",
       "      <td>sedan</td>\n",
       "      <td>red</td>\n",
       "      <td>437</td>\n",
       "      <td>2.063736</td>\n",
       "      <td>0.006316</td>\n",
       "      <td>b</td>\n",
       "    </tr>\n",
       "    <tr>\n",
       "      <th>1</th>\n",
       "      <td>1</td>\n",
       "      <td>2018.0</td>\n",
       "      <td>ford</td>\n",
       "      <td>excellent</td>\n",
       "      <td>6</td>\n",
       "      <td>gas</td>\n",
       "      <td>51473.0</td>\n",
       "      <td>automatic</td>\n",
       "      <td>pickup</td>\n",
       "      <td>black</td>\n",
       "      <td>4160</td>\n",
       "      <td>2.544161</td>\n",
       "      <td>0.113114</td>\n",
       "      <td>c</td>\n",
       "    </tr>\n",
       "    <tr>\n",
       "      <th>2</th>\n",
       "      <td>2</td>\n",
       "      <td>2013.0</td>\n",
       "      <td>ford</td>\n",
       "      <td>excellent</td>\n",
       "      <td>8</td>\n",
       "      <td>gas</td>\n",
       "      <td>170000.0</td>\n",
       "      <td>automatic</td>\n",
       "      <td>truck</td>\n",
       "      <td>white</td>\n",
       "      <td>3836</td>\n",
       "      <td>2.316476</td>\n",
       "      <td>0.061427</td>\n",
       "      <td>a</td>\n",
       "    </tr>\n",
       "    <tr>\n",
       "      <th>3</th>\n",
       "      <td>3</td>\n",
       "      <td>2016.0</td>\n",
       "      <td>ford</td>\n",
       "      <td>good</td>\n",
       "      <td>4</td>\n",
       "      <td>gas</td>\n",
       "      <td>83755.0</td>\n",
       "      <td>automatic</td>\n",
       "      <td>sedan</td>\n",
       "      <td>white</td>\n",
       "      <td>1690</td>\n",
       "      <td>2.338129</td>\n",
       "      <td>0.064887</td>\n",
       "      <td>c</td>\n",
       "    </tr>\n",
       "    <tr>\n",
       "      <th>4</th>\n",
       "      <td>4</td>\n",
       "      <td>2011.0</td>\n",
       "      <td>ford</td>\n",
       "      <td>excellent</td>\n",
       "      <td>4</td>\n",
       "      <td>gas</td>\n",
       "      <td>61434.0</td>\n",
       "      <td>automatic</td>\n",
       "      <td>sedan</td>\n",
       "      <td>silver</td>\n",
       "      <td>3293</td>\n",
       "      <td>2.234623</td>\n",
       "      <td>0.215401</td>\n",
       "      <td>b</td>\n",
       "    </tr>\n",
       "  </tbody>\n",
       "</table>\n",
       "</div>"
      ],
      "text/plain": [
       "   row_number    year manufacturer  condition  cylinders fuel  odometer  \\\n",
       "0           0  2005.0         ford       good          6  gas  100963.0   \n",
       "1           1  2018.0         ford  excellent          6  gas   51473.0   \n",
       "2           2  2013.0         ford  excellent          8  gas  170000.0   \n",
       "3           3  2016.0         ford       good          4  gas   83755.0   \n",
       "4           4  2011.0         ford  excellent          4  gas   61434.0   \n",
       "\n",
       "  transmission    type paint_color    F1        F2        F3 F4  \n",
       "0    automatic   sedan         red   437  2.063736  0.006316  b  \n",
       "1    automatic  pickup       black  4160  2.544161  0.113114  c  \n",
       "2    automatic   truck       white  3836  2.316476  0.061427  a  \n",
       "3    automatic   sedan       white  1690  2.338129  0.064887  c  \n",
       "4    automatic   sedan      silver  3293  2.234623  0.215401  b  "
      ]
     },
     "execution_count": 159,
     "metadata": {},
     "output_type": "execute_result"
    }
   ],
   "source": [
    "challenge['cylinders']=challenge['cylinders'].str.strip('cylinders')\n",
    "challenge['cylinders']=challenge['cylinders'].astype('int64')\n",
    "challenge.head()"
   ]
  },
  {
   "cell_type": "code",
   "execution_count": 160,
   "metadata": {
    "ExecuteTime": {
     "end_time": "2021-02-04T00:31:14.141825Z",
     "start_time": "2021-02-04T00:31:14.107604Z"
    }
   },
   "outputs": [
    {
     "data": {
      "text/html": [
       "<div>\n",
       "<style scoped>\n",
       "    .dataframe tbody tr th:only-of-type {\n",
       "        vertical-align: middle;\n",
       "    }\n",
       "\n",
       "    .dataframe tbody tr th {\n",
       "        vertical-align: top;\n",
       "    }\n",
       "\n",
       "    .dataframe thead th {\n",
       "        text-align: right;\n",
       "    }\n",
       "</style>\n",
       "<table border=\"1\" class=\"dataframe\">\n",
       "  <thead>\n",
       "    <tr style=\"text-align: right;\">\n",
       "      <th></th>\n",
       "      <th>row_number</th>\n",
       "      <th>year</th>\n",
       "      <th>cylinders</th>\n",
       "      <th>odometer</th>\n",
       "      <th>F1</th>\n",
       "      <th>F2</th>\n",
       "      <th>F3</th>\n",
       "      <th>manufacturer_ford</th>\n",
       "      <th>manufacturer_subaru</th>\n",
       "      <th>condition_excellent</th>\n",
       "      <th>...</th>\n",
       "      <th>type_sedan</th>\n",
       "      <th>type_truck</th>\n",
       "      <th>paint_color_black</th>\n",
       "      <th>paint_color_blue</th>\n",
       "      <th>paint_color_red</th>\n",
       "      <th>paint_color_silver</th>\n",
       "      <th>paint_color_white</th>\n",
       "      <th>F4_a</th>\n",
       "      <th>F4_b</th>\n",
       "      <th>F4_c</th>\n",
       "    </tr>\n",
       "  </thead>\n",
       "  <tbody>\n",
       "    <tr>\n",
       "      <th>0</th>\n",
       "      <td>0</td>\n",
       "      <td>2005.0</td>\n",
       "      <td>6</td>\n",
       "      <td>100963.0</td>\n",
       "      <td>437</td>\n",
       "      <td>2.063736</td>\n",
       "      <td>0.006316</td>\n",
       "      <td>1</td>\n",
       "      <td>0</td>\n",
       "      <td>0</td>\n",
       "      <td>...</td>\n",
       "      <td>1</td>\n",
       "      <td>0</td>\n",
       "      <td>0</td>\n",
       "      <td>0</td>\n",
       "      <td>1</td>\n",
       "      <td>0</td>\n",
       "      <td>0</td>\n",
       "      <td>0</td>\n",
       "      <td>1</td>\n",
       "      <td>0</td>\n",
       "    </tr>\n",
       "    <tr>\n",
       "      <th>1</th>\n",
       "      <td>1</td>\n",
       "      <td>2018.0</td>\n",
       "      <td>6</td>\n",
       "      <td>51473.0</td>\n",
       "      <td>4160</td>\n",
       "      <td>2.544161</td>\n",
       "      <td>0.113114</td>\n",
       "      <td>1</td>\n",
       "      <td>0</td>\n",
       "      <td>1</td>\n",
       "      <td>...</td>\n",
       "      <td>0</td>\n",
       "      <td>0</td>\n",
       "      <td>1</td>\n",
       "      <td>0</td>\n",
       "      <td>0</td>\n",
       "      <td>0</td>\n",
       "      <td>0</td>\n",
       "      <td>0</td>\n",
       "      <td>0</td>\n",
       "      <td>1</td>\n",
       "    </tr>\n",
       "    <tr>\n",
       "      <th>2</th>\n",
       "      <td>2</td>\n",
       "      <td>2013.0</td>\n",
       "      <td>8</td>\n",
       "      <td>170000.0</td>\n",
       "      <td>3836</td>\n",
       "      <td>2.316476</td>\n",
       "      <td>0.061427</td>\n",
       "      <td>1</td>\n",
       "      <td>0</td>\n",
       "      <td>1</td>\n",
       "      <td>...</td>\n",
       "      <td>0</td>\n",
       "      <td>1</td>\n",
       "      <td>0</td>\n",
       "      <td>0</td>\n",
       "      <td>0</td>\n",
       "      <td>0</td>\n",
       "      <td>1</td>\n",
       "      <td>1</td>\n",
       "      <td>0</td>\n",
       "      <td>0</td>\n",
       "    </tr>\n",
       "    <tr>\n",
       "      <th>3</th>\n",
       "      <td>3</td>\n",
       "      <td>2016.0</td>\n",
       "      <td>4</td>\n",
       "      <td>83755.0</td>\n",
       "      <td>1690</td>\n",
       "      <td>2.338129</td>\n",
       "      <td>0.064887</td>\n",
       "      <td>1</td>\n",
       "      <td>0</td>\n",
       "      <td>0</td>\n",
       "      <td>...</td>\n",
       "      <td>1</td>\n",
       "      <td>0</td>\n",
       "      <td>0</td>\n",
       "      <td>0</td>\n",
       "      <td>0</td>\n",
       "      <td>0</td>\n",
       "      <td>1</td>\n",
       "      <td>0</td>\n",
       "      <td>0</td>\n",
       "      <td>1</td>\n",
       "    </tr>\n",
       "    <tr>\n",
       "      <th>4</th>\n",
       "      <td>4</td>\n",
       "      <td>2011.0</td>\n",
       "      <td>4</td>\n",
       "      <td>61434.0</td>\n",
       "      <td>3293</td>\n",
       "      <td>2.234623</td>\n",
       "      <td>0.215401</td>\n",
       "      <td>1</td>\n",
       "      <td>0</td>\n",
       "      <td>1</td>\n",
       "      <td>...</td>\n",
       "      <td>1</td>\n",
       "      <td>0</td>\n",
       "      <td>0</td>\n",
       "      <td>0</td>\n",
       "      <td>0</td>\n",
       "      <td>1</td>\n",
       "      <td>0</td>\n",
       "      <td>0</td>\n",
       "      <td>1</td>\n",
       "      <td>0</td>\n",
       "    </tr>\n",
       "  </tbody>\n",
       "</table>\n",
       "<p>5 rows × 28 columns</p>\n",
       "</div>"
      ],
      "text/plain": [
       "   row_number    year  cylinders  odometer    F1        F2        F3  \\\n",
       "0           0  2005.0          6  100963.0   437  2.063736  0.006316   \n",
       "1           1  2018.0          6   51473.0  4160  2.544161  0.113114   \n",
       "2           2  2013.0          8  170000.0  3836  2.316476  0.061427   \n",
       "3           3  2016.0          4   83755.0  1690  2.338129  0.064887   \n",
       "4           4  2011.0          4   61434.0  3293  2.234623  0.215401   \n",
       "\n",
       "   manufacturer_ford  manufacturer_subaru  condition_excellent  ...  \\\n",
       "0                  1                    0                    0  ...   \n",
       "1                  1                    0                    1  ...   \n",
       "2                  1                    0                    1  ...   \n",
       "3                  1                    0                    0  ...   \n",
       "4                  1                    0                    1  ...   \n",
       "\n",
       "   type_sedan  type_truck  paint_color_black  paint_color_blue  \\\n",
       "0           1           0                  0                 0   \n",
       "1           0           0                  1                 0   \n",
       "2           0           1                  0                 0   \n",
       "3           1           0                  0                 0   \n",
       "4           1           0                  0                 0   \n",
       "\n",
       "   paint_color_red  paint_color_silver  paint_color_white  F4_a  F4_b  F4_c  \n",
       "0                1                   0                  0     0     1     0  \n",
       "1                0                   0                  0     0     0     1  \n",
       "2                0                   0                  1     1     0     0  \n",
       "3                0                   0                  1     0     0     1  \n",
       "4                0                   1                  0     0     1     0  \n",
       "\n",
       "[5 rows x 28 columns]"
      ]
     },
     "execution_count": 160,
     "metadata": {},
     "output_type": "execute_result"
    }
   ],
   "source": [
    "challenge = pd.get_dummies(challenge)\n",
    "challenge.head()"
   ]
  },
  {
   "cell_type": "code",
   "execution_count": 165,
   "metadata": {
    "ExecuteTime": {
     "end_time": "2021-02-04T00:33:57.134394Z",
     "start_time": "2021-02-04T00:33:57.122515Z"
    }
   },
   "outputs": [
    {
     "data": {
      "text/html": [
       "<div>\n",
       "<style scoped>\n",
       "    .dataframe tbody tr th:only-of-type {\n",
       "        vertical-align: middle;\n",
       "    }\n",
       "\n",
       "    .dataframe tbody tr th {\n",
       "        vertical-align: top;\n",
       "    }\n",
       "\n",
       "    .dataframe thead th {\n",
       "        text-align: right;\n",
       "    }\n",
       "</style>\n",
       "<table border=\"1\" class=\"dataframe\">\n",
       "  <thead>\n",
       "    <tr style=\"text-align: right;\">\n",
       "      <th></th>\n",
       "      <th>year</th>\n",
       "      <th>cylinders</th>\n",
       "      <th>odometer</th>\n",
       "      <th>F1</th>\n",
       "      <th>F3</th>\n",
       "      <th>type_SUV</th>\n",
       "      <th>type_sedan</th>\n",
       "      <th>manufacturer_ford</th>\n",
       "    </tr>\n",
       "  </thead>\n",
       "  <tbody>\n",
       "    <tr>\n",
       "      <th>0</th>\n",
       "      <td>2005.0</td>\n",
       "      <td>6</td>\n",
       "      <td>100963.0</td>\n",
       "      <td>437</td>\n",
       "      <td>0.006316</td>\n",
       "      <td>0</td>\n",
       "      <td>1</td>\n",
       "      <td>1</td>\n",
       "    </tr>\n",
       "    <tr>\n",
       "      <th>1</th>\n",
       "      <td>2018.0</td>\n",
       "      <td>6</td>\n",
       "      <td>51473.0</td>\n",
       "      <td>4160</td>\n",
       "      <td>0.113114</td>\n",
       "      <td>0</td>\n",
       "      <td>0</td>\n",
       "      <td>1</td>\n",
       "    </tr>\n",
       "    <tr>\n",
       "      <th>2</th>\n",
       "      <td>2013.0</td>\n",
       "      <td>8</td>\n",
       "      <td>170000.0</td>\n",
       "      <td>3836</td>\n",
       "      <td>0.061427</td>\n",
       "      <td>0</td>\n",
       "      <td>0</td>\n",
       "      <td>1</td>\n",
       "    </tr>\n",
       "    <tr>\n",
       "      <th>3</th>\n",
       "      <td>2016.0</td>\n",
       "      <td>4</td>\n",
       "      <td>83755.0</td>\n",
       "      <td>1690</td>\n",
       "      <td>0.064887</td>\n",
       "      <td>0</td>\n",
       "      <td>1</td>\n",
       "      <td>1</td>\n",
       "    </tr>\n",
       "    <tr>\n",
       "      <th>4</th>\n",
       "      <td>2011.0</td>\n",
       "      <td>4</td>\n",
       "      <td>61434.0</td>\n",
       "      <td>3293</td>\n",
       "      <td>0.215401</td>\n",
       "      <td>0</td>\n",
       "      <td>1</td>\n",
       "      <td>1</td>\n",
       "    </tr>\n",
       "  </tbody>\n",
       "</table>\n",
       "</div>"
      ],
      "text/plain": [
       "     year  cylinders  odometer    F1        F3  type_SUV  type_sedan  \\\n",
       "0  2005.0          6  100963.0   437  0.006316         0           1   \n",
       "1  2018.0          6   51473.0  4160  0.113114         0           0   \n",
       "2  2013.0          8  170000.0  3836  0.061427         0           0   \n",
       "3  2016.0          4   83755.0  1690  0.064887         0           1   \n",
       "4  2011.0          4   61434.0  3293  0.215401         0           1   \n",
       "\n",
       "   manufacturer_ford  \n",
       "0                  1  \n",
       "1                  1  \n",
       "2                  1  \n",
       "3                  1  \n",
       "4                  1  "
      ]
     },
     "execution_count": 165,
     "metadata": {},
     "output_type": "execute_result"
    }
   ],
   "source": [
    "sd_challenge = challenge[['year','cylinders','odometer','F1','F3','type_SUV','type_sedan', 'manufacturer_ford']]\n",
    "sd_challenge.head()"
   ]
  },
  {
   "cell_type": "code",
   "execution_count": 336,
   "metadata": {
    "ExecuteTime": {
     "end_time": "2021-02-04T06:50:46.627735Z",
     "start_time": "2021-02-04T06:50:46.573581Z"
    }
   },
   "outputs": [],
   "source": [
    "lasso_y_pred = reg_lasso.predict(sd_challenge)\n",
    "prediction = lasso_y_pred.round(2)\n",
    "prediction_positive = []\n",
    "\n",
    "for p in prediction:\n",
    "    if p < 0:\n",
    "        prediction_positive.append(0)\n",
    "    else:\n",
    "        prediction_positive.append(p)\n",
    "Id = [i for i in range(3403)]\n",
    "\n",
    "result = pd.DataFrame({'Id': Id, 'Predicted':prediction_positive})\n",
    "\n",
    "result.to_csv('kaggle_challenge.csv', index=False)"
   ]
  }
 ],
 "metadata": {
  "kernelspec": {
   "display_name": "Python 3",
   "language": "python",
   "name": "python3"
  },
  "language_info": {
   "codemirror_mode": {
    "name": "ipython",
    "version": 3
   },
   "file_extension": ".py",
   "mimetype": "text/x-python",
   "name": "python",
   "nbconvert_exporter": "python",
   "pygments_lexer": "ipython3",
   "version": "3.7.9"
  }
 },
 "nbformat": 4,
 "nbformat_minor": 2
}
