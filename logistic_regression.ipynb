{
 "cells": [

  {
   "cell_type": "markdown",
   "id": "colonial-stadium",
   "metadata": {},
   "source": [
    "### Import Libraries and the dataset"
   ]
  },
  {
   "cell_type": "code",
   "execution_count": 459,
   "id": "exotic-stations",
   "metadata": {
    "ExecuteTime": {
     "end_time": "2021-02-18T16:17:35.424562Z",
     "start_time": "2021-02-18T16:17:35.420149Z"
    }
   },
   "outputs": [],
   "source": [
    "import pandas as pd\n",
    "import matplotlib.pyplot as plt\n",
    "import numpy as np\n",
    "from sklearn import datasets, linear_model, tree\n",
    "from sklearn.utils import shuffle\n",
    "from sklearn.metrics import roc_auc_score, roc_curve, auc, confusion_matrix, plot_roc_curve\n",
    "from sklearn.preprocessing import QuantileTransformer\n",
    "from sklearn.feature_selection import f_regression\n",
    "from sklearn.model_selection import StratifiedKFold\n",
    "from scipy import stats, interp\n",
    "import seaborn as sns\n",
    "from mlxtend.feature_selection import SequentialFeatureSelector as sfs\n",
    "from mlxtend.plotting import plot_sequential_feature_selection as plot_sfs\n",
    "import graphviz\n",
    "import warnings"
   ]
  },
  {
   "cell_type": "code",
   "execution_count": 2,
   "id": "textile-alignment",
   "metadata": {
    "ExecuteTime": {
     "end_time": "2021-02-18T10:45:18.654168Z",
     "start_time": "2021-02-18T10:45:18.651810Z"
    }
   },
   "outputs": [],
   "source": [
    "# Just simply to ignore some systemetic warning appears later\n",
    "warnings.filterwarnings('ignore')"
   ]
  },
  {
   "cell_type": "code",
   "execution_count": 3,
   "id": "instant-gentleman",
   "metadata": {
    "ExecuteTime": {
     "end_time": "2021-02-18T10:45:18.683049Z",
     "start_time": "2021-02-18T10:45:18.659973Z"
    }
   },
   "outputs": [],
   "source": [
    "# Import the dataset\n",
    "med_info = pd.read_csv(\"ps2_available_dataset.csv\")"
   ]
  },
  {
   "cell_type": "code",
   "execution_count": 314,
   "id": "operating-mineral",
   "metadata": {
    "ExecuteTime": {
     "end_time": "2021-02-18T14:25:57.888519Z",
     "start_time": "2021-02-18T14:25:57.869713Z"
    }
   },
   "outputs": [
    {
     "data": {
      "text/html": [
       "<div>\n",
       "<style scoped>\n",
       "    .dataframe tbody tr th:only-of-type {\n",
       "        vertical-align: middle;\n",
       "    }\n",
       "\n",
       "    .dataframe tbody tr th {\n",
       "        vertical-align: top;\n",
       "    }\n",
       "\n",
       "    .dataframe thead th {\n",
       "        text-align: right;\n",
       "    }\n",
       "</style>\n",
       "<table border=\"1\" class=\"dataframe\">\n",
       "  <thead>\n",
       "    <tr style=\"text-align: right;\">\n",
       "      <th></th>\n",
       "      <th>treatment</th>\n",
       "      <th>age</th>\n",
       "      <th>blood_pressure</th>\n",
       "      <th>gender</th>\n",
       "      <th>blood_test</th>\n",
       "      <th>family_history</th>\n",
       "      <th>MeasureA</th>\n",
       "      <th>TestB</th>\n",
       "      <th>GeneA</th>\n",
       "      <th>GeneB</th>\n",
       "      <th>GeneC</th>\n",
       "    </tr>\n",
       "  </thead>\n",
       "  <tbody>\n",
       "    <tr>\n",
       "      <th>0</th>\n",
       "      <td>1</td>\n",
       "      <td>74</td>\n",
       "      <td>94.113373</td>\n",
       "      <td>non-female</td>\n",
       "      <td>negative</td>\n",
       "      <td>False</td>\n",
       "      <td>-11.035690</td>\n",
       "      <td>-0.336843</td>\n",
       "      <td>double</td>\n",
       "      <td>1</td>\n",
       "      <td>0</td>\n",
       "    </tr>\n",
       "    <tr>\n",
       "      <th>1</th>\n",
       "      <td>1</td>\n",
       "      <td>56</td>\n",
       "      <td>83.337745</td>\n",
       "      <td>non-female</td>\n",
       "      <td>negative</td>\n",
       "      <td>False</td>\n",
       "      <td>-3.982345</td>\n",
       "      <td>-0.018734</td>\n",
       "      <td>none</td>\n",
       "      <td>1</td>\n",
       "      <td>1</td>\n",
       "    </tr>\n",
       "    <tr>\n",
       "      <th>2</th>\n",
       "      <td>0</td>\n",
       "      <td>37</td>\n",
       "      <td>81.759240</td>\n",
       "      <td>female</td>\n",
       "      <td>negative</td>\n",
       "      <td>False</td>\n",
       "      <td>6.205701</td>\n",
       "      <td>0.147933</td>\n",
       "      <td>double</td>\n",
       "      <td>1</td>\n",
       "      <td>1</td>\n",
       "    </tr>\n",
       "    <tr>\n",
       "      <th>3</th>\n",
       "      <td>1</td>\n",
       "      <td>54</td>\n",
       "      <td>88.549518</td>\n",
       "      <td>female</td>\n",
       "      <td>negative</td>\n",
       "      <td>False</td>\n",
       "      <td>-1.827613</td>\n",
       "      <td>-0.338373</td>\n",
       "      <td>none</td>\n",
       "      <td>1</td>\n",
       "      <td>1</td>\n",
       "    </tr>\n",
       "    <tr>\n",
       "      <th>4</th>\n",
       "      <td>0</td>\n",
       "      <td>73</td>\n",
       "      <td>82.171555</td>\n",
       "      <td>female</td>\n",
       "      <td>negative</td>\n",
       "      <td>nan</td>\n",
       "      <td>-14.637389</td>\n",
       "      <td>-0.369325</td>\n",
       "      <td>none</td>\n",
       "      <td>1</td>\n",
       "      <td>1</td>\n",
       "    </tr>\n",
       "    <tr>\n",
       "      <th>...</th>\n",
       "      <td>...</td>\n",
       "      <td>...</td>\n",
       "      <td>...</td>\n",
       "      <td>...</td>\n",
       "      <td>...</td>\n",
       "      <td>...</td>\n",
       "      <td>...</td>\n",
       "      <td>...</td>\n",
       "      <td>...</td>\n",
       "      <td>...</td>\n",
       "      <td>...</td>\n",
       "    </tr>\n",
       "    <tr>\n",
       "      <th>9995</th>\n",
       "      <td>1</td>\n",
       "      <td>49</td>\n",
       "      <td>89.036800</td>\n",
       "      <td>non-female</td>\n",
       "      <td>negative</td>\n",
       "      <td>False</td>\n",
       "      <td>-1.384107</td>\n",
       "      <td>-0.333167</td>\n",
       "      <td>double</td>\n",
       "      <td>1</td>\n",
       "      <td>0</td>\n",
       "    </tr>\n",
       "    <tr>\n",
       "      <th>9996</th>\n",
       "      <td>0</td>\n",
       "      <td>64</td>\n",
       "      <td>90.848126</td>\n",
       "      <td>non-female</td>\n",
       "      <td>negative</td>\n",
       "      <td>nan</td>\n",
       "      <td>-6.560963</td>\n",
       "      <td>-0.015892</td>\n",
       "      <td>double</td>\n",
       "      <td>1</td>\n",
       "      <td>0</td>\n",
       "    </tr>\n",
       "    <tr>\n",
       "      <th>9997</th>\n",
       "      <td>0</td>\n",
       "      <td>54</td>\n",
       "      <td>82.028043</td>\n",
       "      <td>female</td>\n",
       "      <td>negative</td>\n",
       "      <td>False</td>\n",
       "      <td>-3.192784</td>\n",
       "      <td>-0.317267</td>\n",
       "      <td>none</td>\n",
       "      <td>1</td>\n",
       "      <td>0</td>\n",
       "    </tr>\n",
       "    <tr>\n",
       "      <th>9998</th>\n",
       "      <td>1</td>\n",
       "      <td>54</td>\n",
       "      <td>82.246645</td>\n",
       "      <td>female</td>\n",
       "      <td>negative</td>\n",
       "      <td>False</td>\n",
       "      <td>-4.138708</td>\n",
       "      <td>-0.042504</td>\n",
       "      <td>double</td>\n",
       "      <td>1</td>\n",
       "      <td>1</td>\n",
       "    </tr>\n",
       "    <tr>\n",
       "      <th>9999</th>\n",
       "      <td>0</td>\n",
       "      <td>67</td>\n",
       "      <td>83.397145</td>\n",
       "      <td>female</td>\n",
       "      <td>negative</td>\n",
       "      <td>nan</td>\n",
       "      <td>-9.589529</td>\n",
       "      <td>-0.083334</td>\n",
       "      <td>none</td>\n",
       "      <td>1</td>\n",
       "      <td>0</td>\n",
       "    </tr>\n",
       "  </tbody>\n",
       "</table>\n",
       "<p>9995 rows × 11 columns</p>\n",
       "</div>"
      ],
      "text/plain": [
       "      treatment  age  blood_pressure      gender blood_test family_history  \\\n",
       "0             1   74       94.113373  non-female   negative          False   \n",
       "1             1   56       83.337745  non-female   negative          False   \n",
       "2             0   37       81.759240      female   negative          False   \n",
       "3             1   54       88.549518      female   negative          False   \n",
       "4             0   73       82.171555      female   negative            nan   \n",
       "...         ...  ...             ...         ...        ...            ...   \n",
       "9995          1   49       89.036800  non-female   negative          False   \n",
       "9996          0   64       90.848126  non-female   negative            nan   \n",
       "9997          0   54       82.028043      female   negative          False   \n",
       "9998          1   54       82.246645      female   negative          False   \n",
       "9999          0   67       83.397145      female   negative            nan   \n",
       "\n",
       "       MeasureA     TestB   GeneA  GeneB  GeneC  \n",
       "0    -11.035690 -0.336843  double      1      0  \n",
       "1     -3.982345 -0.018734    none      1      1  \n",
       "2      6.205701  0.147933  double      1      1  \n",
       "3     -1.827613 -0.338373    none      1      1  \n",
       "4    -14.637389 -0.369325    none      1      1  \n",
       "...         ...       ...     ...    ...    ...  \n",
       "9995  -1.384107 -0.333167  double      1      0  \n",
       "9996  -6.560963 -0.015892  double      1      0  \n",
       "9997  -3.192784 -0.317267    none      1      0  \n",
       "9998  -4.138708 -0.042504  double      1      1  \n",
       "9999  -9.589529 -0.083334    none      1      0  \n",
       "\n",
       "[9995 rows x 11 columns]"
      ]
     },
     "execution_count": 314,
     "metadata": {},
     "output_type": "execute_result"
    }
   ],
   "source": [
    "# Dataset preview\n",
    "med_info"
   ]
  },
  {
   "cell_type": "markdown",
   "id": "similar-exhibition",
   "metadata": {},
   "source": [
    "### Data Cleaning"
   ]
  },
  {
   "cell_type": "code",
   "execution_count": 315,
   "id": "matched-particle",
   "metadata": {
    "ExecuteTime": {
     "end_time": "2021-02-18T14:25:58.472739Z",
     "start_time": "2021-02-18T14:25:58.464568Z"
    },
    "scrolled": false
   },
   "outputs": [
    {
     "data": {
      "text/plain": [
       "treatment         0\n",
       "age               0\n",
       "blood_pressure    0\n",
       "gender            0\n",
       "blood_test        0\n",
       "family_history    0\n",
       "MeasureA          0\n",
       "TestB             0\n",
       "GeneA             0\n",
       "GeneB             0\n",
       "GeneC             0\n",
       "dtype: int64"
      ]
     },
     "execution_count": 315,
     "metadata": {},
     "output_type": "execute_result"
    }
   ],
   "source": [
    "# Check the NaN value of each features\n",
    "med_info.isna().sum()"
   ]
  },
  {
   "cell_type": "code",
   "execution_count": 316,
   "id": "improved-trouble",
   "metadata": {
    "ExecuteTime": {
     "end_time": "2021-02-18T14:25:58.948954Z",
     "start_time": "2021-02-18T14:25:58.939123Z"
    }
   },
   "outputs": [],
   "source": [
    "# Family history is the feature that contains Nan. By replacing it with 'None', I will\n",
    "# treat 'None' as the third value of family_history\n",
    "med_info.fillna('None')\n",
    "med_info['family_history']=med_info['family_history'].astype('str')"
   ]
  },
  {
   "cell_type": "code",
   "execution_count": 317,
   "id": "native-oregon",
   "metadata": {
    "ExecuteTime": {
     "end_time": "2021-02-18T14:25:59.419500Z",
     "start_time": "2021-02-18T14:25:59.415509Z"
    }
   },
   "outputs": [],
   "source": [
    "# From the value of blood pressure, it can be inferred that the unit of 'blood_pressure' is mmhg\n",
    "# Remove the rows with blood_pressure = -99.00 (which may refers to missing data)\n",
    "med_info = med_info[med_info['blood_pressure'] >= 0]"
   ]
  },
  {
   "cell_type": "code",
   "execution_count": 318,
   "id": "activated-location",
   "metadata": {
    "ExecuteTime": {
     "end_time": "2021-02-18T14:25:59.925021Z",
     "start_time": "2021-02-18T14:25:59.911429Z"
    }
   },
   "outputs": [
    {
     "data": {
      "text/plain": [
       "(9995, 17)"
      ]
     },
     "execution_count": 318,
     "metadata": {},
     "output_type": "execute_result"
    }
   ],
   "source": [
    "# Encode the other categorical features using one hot encoding\n",
    "med_df = pd.get_dummies(med_info)\n",
    "med_df.shape"
   ]
  },
  {
   "cell_type": "code",
   "execution_count": 319,
   "id": "narrative-midwest",
   "metadata": {
    "ExecuteTime": {
     "end_time": "2021-02-18T14:26:01.879334Z",
     "start_time": "2021-02-18T14:26:01.854906Z"
    }
   },
   "outputs": [
    {
     "data": {
      "text/html": [
       "<div>\n",
       "<style scoped>\n",
       "    .dataframe tbody tr th:only-of-type {\n",
       "        vertical-align: middle;\n",
       "    }\n",
       "\n",
       "    .dataframe tbody tr th {\n",
       "        vertical-align: top;\n",
       "    }\n",
       "\n",
       "    .dataframe thead th {\n",
       "        text-align: right;\n",
       "    }\n",
       "</style>\n",
       "<table border=\"1\" class=\"dataframe\">\n",
       "  <thead>\n",
       "    <tr style=\"text-align: right;\">\n",
       "      <th></th>\n",
       "      <th>treatment</th>\n",
       "      <th>age</th>\n",
       "      <th>blood_pressure</th>\n",
       "      <th>MeasureA</th>\n",
       "      <th>TestB</th>\n",
       "      <th>GeneB</th>\n",
       "      <th>GeneC</th>\n",
       "      <th>gender_female</th>\n",
       "      <th>gender_non-female</th>\n",
       "      <th>blood_test_negative</th>\n",
       "      <th>blood_test_positive</th>\n",
       "      <th>family_history_False</th>\n",
       "      <th>family_history_True</th>\n",
       "      <th>family_history_nan</th>\n",
       "      <th>GeneA_double</th>\n",
       "      <th>GeneA_none</th>\n",
       "      <th>GeneA_single</th>\n",
       "    </tr>\n",
       "  </thead>\n",
       "  <tbody>\n",
       "    <tr>\n",
       "      <th>0</th>\n",
       "      <td>1</td>\n",
       "      <td>74</td>\n",
       "      <td>94.113373</td>\n",
       "      <td>-11.035690</td>\n",
       "      <td>-0.336843</td>\n",
       "      <td>1</td>\n",
       "      <td>0</td>\n",
       "      <td>0</td>\n",
       "      <td>1</td>\n",
       "      <td>1</td>\n",
       "      <td>0</td>\n",
       "      <td>1</td>\n",
       "      <td>0</td>\n",
       "      <td>0</td>\n",
       "      <td>1</td>\n",
       "      <td>0</td>\n",
       "      <td>0</td>\n",
       "    </tr>\n",
       "    <tr>\n",
       "      <th>1</th>\n",
       "      <td>1</td>\n",
       "      <td>56</td>\n",
       "      <td>83.337745</td>\n",
       "      <td>-3.982345</td>\n",
       "      <td>-0.018734</td>\n",
       "      <td>1</td>\n",
       "      <td>1</td>\n",
       "      <td>0</td>\n",
       "      <td>1</td>\n",
       "      <td>1</td>\n",
       "      <td>0</td>\n",
       "      <td>1</td>\n",
       "      <td>0</td>\n",
       "      <td>0</td>\n",
       "      <td>0</td>\n",
       "      <td>1</td>\n",
       "      <td>0</td>\n",
       "    </tr>\n",
       "    <tr>\n",
       "      <th>2</th>\n",
       "      <td>0</td>\n",
       "      <td>37</td>\n",
       "      <td>81.759240</td>\n",
       "      <td>6.205701</td>\n",
       "      <td>0.147933</td>\n",
       "      <td>1</td>\n",
       "      <td>1</td>\n",
       "      <td>1</td>\n",
       "      <td>0</td>\n",
       "      <td>1</td>\n",
       "      <td>0</td>\n",
       "      <td>1</td>\n",
       "      <td>0</td>\n",
       "      <td>0</td>\n",
       "      <td>1</td>\n",
       "      <td>0</td>\n",
       "      <td>0</td>\n",
       "    </tr>\n",
       "    <tr>\n",
       "      <th>3</th>\n",
       "      <td>1</td>\n",
       "      <td>54</td>\n",
       "      <td>88.549518</td>\n",
       "      <td>-1.827613</td>\n",
       "      <td>-0.338373</td>\n",
       "      <td>1</td>\n",
       "      <td>1</td>\n",
       "      <td>1</td>\n",
       "      <td>0</td>\n",
       "      <td>1</td>\n",
       "      <td>0</td>\n",
       "      <td>1</td>\n",
       "      <td>0</td>\n",
       "      <td>0</td>\n",
       "      <td>0</td>\n",
       "      <td>1</td>\n",
       "      <td>0</td>\n",
       "    </tr>\n",
       "    <tr>\n",
       "      <th>4</th>\n",
       "      <td>0</td>\n",
       "      <td>73</td>\n",
       "      <td>82.171555</td>\n",
       "      <td>-14.637389</td>\n",
       "      <td>-0.369325</td>\n",
       "      <td>1</td>\n",
       "      <td>1</td>\n",
       "      <td>1</td>\n",
       "      <td>0</td>\n",
       "      <td>1</td>\n",
       "      <td>0</td>\n",
       "      <td>0</td>\n",
       "      <td>0</td>\n",
       "      <td>1</td>\n",
       "      <td>0</td>\n",
       "      <td>1</td>\n",
       "      <td>0</td>\n",
       "    </tr>\n",
       "    <tr>\n",
       "      <th>...</th>\n",
       "      <td>...</td>\n",
       "      <td>...</td>\n",
       "      <td>...</td>\n",
       "      <td>...</td>\n",
       "      <td>...</td>\n",
       "      <td>...</td>\n",
       "      <td>...</td>\n",
       "      <td>...</td>\n",
       "      <td>...</td>\n",
       "      <td>...</td>\n",
       "      <td>...</td>\n",
       "      <td>...</td>\n",
       "      <td>...</td>\n",
       "      <td>...</td>\n",
       "      <td>...</td>\n",
       "      <td>...</td>\n",
       "      <td>...</td>\n",
       "    </tr>\n",
       "    <tr>\n",
       "      <th>9995</th>\n",
       "      <td>1</td>\n",
       "      <td>49</td>\n",
       "      <td>89.036800</td>\n",
       "      <td>-1.384107</td>\n",
       "      <td>-0.333167</td>\n",
       "      <td>1</td>\n",
       "      <td>0</td>\n",
       "      <td>0</td>\n",
       "      <td>1</td>\n",
       "      <td>1</td>\n",
       "      <td>0</td>\n",
       "      <td>1</td>\n",
       "      <td>0</td>\n",
       "      <td>0</td>\n",
       "      <td>1</td>\n",
       "      <td>0</td>\n",
       "      <td>0</td>\n",
       "    </tr>\n",
       "    <tr>\n",
       "      <th>9996</th>\n",
       "      <td>0</td>\n",
       "      <td>64</td>\n",
       "      <td>90.848126</td>\n",
       "      <td>-6.560963</td>\n",
       "      <td>-0.015892</td>\n",
       "      <td>1</td>\n",
       "      <td>0</td>\n",
       "      <td>0</td>\n",
       "      <td>1</td>\n",
       "      <td>1</td>\n",
       "      <td>0</td>\n",
       "      <td>0</td>\n",
       "      <td>0</td>\n",
       "      <td>1</td>\n",
       "      <td>1</td>\n",
       "      <td>0</td>\n",
       "      <td>0</td>\n",
       "    </tr>\n",
       "    <tr>\n",
       "      <th>9997</th>\n",
       "      <td>0</td>\n",
       "      <td>54</td>\n",
       "      <td>82.028043</td>\n",
       "      <td>-3.192784</td>\n",
       "      <td>-0.317267</td>\n",
       "      <td>1</td>\n",
       "      <td>0</td>\n",
       "      <td>1</td>\n",
       "      <td>0</td>\n",
       "      <td>1</td>\n",
       "      <td>0</td>\n",
       "      <td>1</td>\n",
       "      <td>0</td>\n",
       "      <td>0</td>\n",
       "      <td>0</td>\n",
       "      <td>1</td>\n",
       "      <td>0</td>\n",
       "    </tr>\n",
       "    <tr>\n",
       "      <th>9998</th>\n",
       "      <td>1</td>\n",
       "      <td>54</td>\n",
       "      <td>82.246645</td>\n",
       "      <td>-4.138708</td>\n",
       "      <td>-0.042504</td>\n",
       "      <td>1</td>\n",
       "      <td>1</td>\n",
       "      <td>1</td>\n",
       "      <td>0</td>\n",
       "      <td>1</td>\n",
       "      <td>0</td>\n",
       "      <td>1</td>\n",
       "      <td>0</td>\n",
       "      <td>0</td>\n",
       "      <td>1</td>\n",
       "      <td>0</td>\n",
       "      <td>0</td>\n",
       "    </tr>\n",
       "    <tr>\n",
       "      <th>9999</th>\n",
       "      <td>0</td>\n",
       "      <td>67</td>\n",
       "      <td>83.397145</td>\n",
       "      <td>-9.589529</td>\n",
       "      <td>-0.083334</td>\n",
       "      <td>1</td>\n",
       "      <td>0</td>\n",
       "      <td>1</td>\n",
       "      <td>0</td>\n",
       "      <td>1</td>\n",
       "      <td>0</td>\n",
       "      <td>0</td>\n",
       "      <td>0</td>\n",
       "      <td>1</td>\n",
       "      <td>0</td>\n",
       "      <td>1</td>\n",
       "      <td>0</td>\n",
       "    </tr>\n",
       "  </tbody>\n",
       "</table>\n",
       "<p>9995 rows × 17 columns</p>\n",
       "</div>"
      ],
      "text/plain": [
       "      treatment  age  blood_pressure   MeasureA     TestB  GeneB  GeneC  \\\n",
       "0             1   74       94.113373 -11.035690 -0.336843      1      0   \n",
       "1             1   56       83.337745  -3.982345 -0.018734      1      1   \n",
       "2             0   37       81.759240   6.205701  0.147933      1      1   \n",
       "3             1   54       88.549518  -1.827613 -0.338373      1      1   \n",
       "4             0   73       82.171555 -14.637389 -0.369325      1      1   \n",
       "...         ...  ...             ...        ...       ...    ...    ...   \n",
       "9995          1   49       89.036800  -1.384107 -0.333167      1      0   \n",
       "9996          0   64       90.848126  -6.560963 -0.015892      1      0   \n",
       "9997          0   54       82.028043  -3.192784 -0.317267      1      0   \n",
       "9998          1   54       82.246645  -4.138708 -0.042504      1      1   \n",
       "9999          0   67       83.397145  -9.589529 -0.083334      1      0   \n",
       "\n",
       "      gender_female  gender_non-female  blood_test_negative  \\\n",
       "0                 0                  1                    1   \n",
       "1                 0                  1                    1   \n",
       "2                 1                  0                    1   \n",
       "3                 1                  0                    1   \n",
       "4                 1                  0                    1   \n",
       "...             ...                ...                  ...   \n",
       "9995              0                  1                    1   \n",
       "9996              0                  1                    1   \n",
       "9997              1                  0                    1   \n",
       "9998              1                  0                    1   \n",
       "9999              1                  0                    1   \n",
       "\n",
       "      blood_test_positive  family_history_False  family_history_True  \\\n",
       "0                       0                     1                    0   \n",
       "1                       0                     1                    0   \n",
       "2                       0                     1                    0   \n",
       "3                       0                     1                    0   \n",
       "4                       0                     0                    0   \n",
       "...                   ...                   ...                  ...   \n",
       "9995                    0                     1                    0   \n",
       "9996                    0                     0                    0   \n",
       "9997                    0                     1                    0   \n",
       "9998                    0                     1                    0   \n",
       "9999                    0                     0                    0   \n",
       "\n",
       "      family_history_nan  GeneA_double  GeneA_none  GeneA_single  \n",
       "0                      0             1           0             0  \n",
       "1                      0             0           1             0  \n",
       "2                      0             1           0             0  \n",
       "3                      0             0           1             0  \n",
       "4                      1             0           1             0  \n",
       "...                  ...           ...         ...           ...  \n",
       "9995                   0             1           0             0  \n",
       "9996                   1             1           0             0  \n",
       "9997                   0             0           1             0  \n",
       "9998                   0             1           0             0  \n",
       "9999                   1             0           1             0  \n",
       "\n",
       "[9995 rows x 17 columns]"
      ]
     },
     "execution_count": 319,
     "metadata": {},
     "output_type": "execute_result"
    }
   ],
   "source": [
    "# Dataset after one hot encoding\n",
    "med_df"
   ]
  },
  {
   "cell_type": "code",
   "execution_count": 320,
   "id": "worldwide-circus",
   "metadata": {
    "ExecuteTime": {
     "end_time": "2021-02-18T14:26:02.565294Z",
     "start_time": "2021-02-18T14:26:02.552844Z"
    },
    "scrolled": true
   },
   "outputs": [
    {
     "name": "stdout",
     "output_type": "stream",
     "text": [
      "treatment               1.000000\n",
      "age                    -0.148967\n",
      "blood_pressure          0.096630\n",
      "MeasureA                0.145517\n",
      "TestB                   0.060390\n",
      "GeneB                   0.026659\n",
      "GeneC                   0.043758\n",
      "gender_female          -0.330426\n",
      "gender_non-female       0.330426\n",
      "blood_test_negative     0.053359\n",
      "blood_test_positive    -0.053359\n",
      "family_history_False   -0.048968\n",
      "family_history_True     0.134395\n",
      "family_history_nan      0.020060\n",
      "GeneA_double            0.000667\n",
      "GeneA_none             -0.001548\n",
      "GeneA_single            0.001122\n",
      "Name: treatment, dtype: float64\n"
     ]
    }
   ],
   "source": [
    "# Correlation matrix to see the general relationships between predictors and the treatment\n",
    "corrMatrix = med_df.corr()\n",
    "print (corrMatrix.iloc[0,:])"
   ]
  },
  {
   "cell_type": "code",
   "execution_count": 321,
   "id": "european-fossil",
   "metadata": {
    "ExecuteTime": {
     "end_time": "2021-02-18T14:26:02.656821Z",
     "start_time": "2021-02-18T14:26:02.634375Z"
    }
   },
   "outputs": [
    {
     "name": "stdout",
     "output_type": "stream",
     "text": [
      "            age  blood_pressure      MeasureA         TestB     GeneB  \\\n",
      "0  2.267904e+02    9.418828e+01  2.161806e+02  3.657732e+01  7.107234   \n",
      "1  1.073245e-50    3.593643e-22  1.971105e-48  1.519855e-09  0.007690   \n",
      "\n",
      "       GeneC  gender_female  gender_non-female  blood_test_negative  \\\n",
      "0  19.170860   1.224767e+03       1.224767e+03         2.853327e+01   \n",
      "1   0.000012  3.203795e-253      3.203795e-253         9.412585e-08   \n",
      "\n",
      "   blood_test_positive  family_history_False  family_history_True  \\\n",
      "0         2.853327e+01          2.401985e+01         1.838129e+02   \n",
      "1         9.412585e-08          9.684616e-07         1.657911e-41   \n",
      "\n",
      "   family_history_nan  GeneA_double  GeneA_none  GeneA_single  \n",
      "0            4.022868      0.004452    0.023943      0.012576  \n",
      "1            0.044914      0.946804    0.877033      0.910713  \n"
     ]
    }
   ],
   "source": [
    "# T-test to see the general relationships between predictors and the treatment\n",
    "# first row: t-score, second row: p-value\n",
    "t_test = f_regression(med_df.iloc[:,1:], med_df['treatment'])\n",
    "t_columns = med_df.columns[1:]\n",
    "t_test = pd.DataFrame(t_test, columns=t_columns)\n",
    "print(t_test)"
   ]
  },
  {
   "cell_type": "markdown",
   "id": "refined-alexandria",
   "metadata": {},
   "source": [
    "### Feature selection"
   ]
  },
  {
   "cell_type": "markdown",
   "id": "professional-scale",
   "metadata": {},
   "source": [
    "#### Forward selection"
   ]
  },
  {
   "cell_type": "code",
   "execution_count": 366,
   "id": "contrary-dealing",
   "metadata": {
    "ExecuteTime": {
     "end_time": "2021-02-18T15:40:20.258245Z",
     "start_time": "2021-02-18T15:40:20.251714Z"
    }
   },
   "outputs": [],
   "source": [
    "#Seperate predictor and the predicted variable\n",
    "med_df = shuffle(med_df)\n",
    "\n",
    "y = med_df.iloc[:,:1].to_numpy().ravel()\n",
    "X = med_df.iloc[:,1:]"
   ]
  },
  {
   "cell_type": "code",
   "execution_count": 323,
   "id": "postal-nurse",
   "metadata": {
    "ExecuteTime": {
     "end_time": "2021-02-18T14:27:35.214143Z",
     "start_time": "2021-02-18T14:26:07.502913Z"
    }
   },
   "outputs": [
    {
     "name": "stdout",
     "output_type": "stream",
     "text": [
      "    cycle         Added_feature  neg_mse\n",
      "0       1         gender_female     0.69\n",
      "1       2                   age     0.70\n",
      "2       3   family_history_True     0.71\n",
      "3       4        blood_pressure     0.71\n",
      "4       5   blood_test_negative     0.72\n",
      "5       6                 TestB     0.72\n",
      "6       7  family_history_False     0.72\n",
      "7       8   blood_test_positive     0.72\n",
      "8       9     gender_non-female     0.72\n",
      "9      10            GeneA_none     0.72\n",
      "10     11          GeneA_single     0.72\n",
      "11     12    family_history_nan     0.72\n",
      "12     13          GeneA_double     0.72\n",
      "13     14              MeasureA     0.72\n",
      "14     15                 GeneC     0.72\n",
      "15     16                 GeneB     0.72\n"
     ]
    },
    {
     "data": {
      "image/png": "[encoded data removed]",
      "text/plain": [
       "<Figure size 432x288 with 1 Axes>"
      ]
     },
     "metadata": {
      "needs_background": "light"
     },
     "output_type": "display_data"
    }
   ],
   "source": [
    "# Build the logistic regression model to use in feature selection\n",
    "clf = linear_model.LogisticRegression(random_state=0)\n",
    "\n",
    "# sequantial forward selection to help identify\n",
    "sfs1 = sfs(clf,\n",
    "           k_features=16,\n",
    "           forward=True,\n",
    "           floating=False,\n",
    "           scoring='accuracy',\n",
    "           cv=10)\n",
    "\n",
    "sfs1 = sfs1.fit(X, y)\n",
    "\n",
    "#output the added feature dataframe\n",
    "f_cycle = []\n",
    "f_names = []\n",
    "f_added = []\n",
    "f_nmse = []\n",
    "\n",
    "for k,v in sfs1.subsets_.items():\n",
    "    f_cycle.append(k)\n",
    "    f_names.append(set(v['feature_names']))\n",
    "    f_nmse.append(v['avg_score'].round(2))\n",
    "\n",
    "for i in range(len(f_names)):\n",
    "    if i == 0:\n",
    "        f = f_names[0]\n",
    "    else:\n",
    "        f = f_names[i]^f_names[i-1]        \n",
    "    f_added.append(list(f)[0])\n",
    "\n",
    "result = pd.DataFrame({'cycle':f_cycle,'Added_feature':f_added,'accuracy':f_nmse})\n",
    "print(result)\n",
    "\n",
    "# Generate the performance figure\n",
    "fig = plot_sfs(sfs1.get_metric_dict(), kind='std_err')\n",
    "\n",
    "plt.title('Sequential Forward Selection (w. std_err)')\n",
    "plt.grid()\n",
    "plt.show()"
   ]
  },
  {
   "cell_type": "markdown",
   "id": "ceramic-defeat",
   "metadata": {
    "ExecuteTime": {
     "end_time": "2021-02-17T12:31:18.185163Z",
     "start_time": "2021-02-17T12:31:18.182440Z"
    }
   },
   "source": [
    "#### Backward selection"
   ]
  },
  {
   "cell_type": "code",
   "execution_count": 324,
   "id": "found-replacement",
   "metadata": {
    "ExecuteTime": {
     "end_time": "2021-02-18T14:27:40.056607Z",
     "start_time": "2021-02-18T14:27:40.050244Z"
    }
   },
   "outputs": [],
   "source": [
    "# shuffle data for backward selection\n",
    "med_df = shuffle(med_df)\n",
    "\n",
    "y = med_df.iloc[:,:1].to_numpy().ravel()\n",
    "X = med_df.iloc[:,1:]"
   ]
  },
  {
   "cell_type": "code",
   "execution_count": 325,
   "id": "quiet-necklace",
   "metadata": {
    "ExecuteTime": {
     "end_time": "2021-02-18T14:29:28.135959Z",
     "start_time": "2021-02-18T14:27:40.439541Z"
    }
   },
   "outputs": [
    {
     "name": "stdout",
     "output_type": "stream",
     "text": [
      "    cycle      Removed_features  accuracy\n",
      "0      16     gender_non-female      0.71\n",
      "1      15                   age      0.72\n",
      "2      14  family_history_False      0.72\n",
      "3      13    family_history_nan      0.72\n",
      "4      12   blood_test_positive      0.72\n",
      "5      11        blood_pressure      0.72\n",
      "6      10                 TestB      0.72\n",
      "7       9   family_history_True      0.72\n",
      "8       8         gender_female      0.72\n",
      "9       7          GeneA_double      0.72\n",
      "10      6              MeasureA      0.72\n",
      "11      5            GeneA_none      0.71\n",
      "12      4   blood_test_negative      0.71\n",
      "13      3          GeneA_single      0.70\n",
      "14      2                 GeneB      0.70\n",
      "15      1                 GeneC      0.69\n"
     ]
    },
    {
     "data": {
      "image/png": "[encoded data removed]",
      "text/plain": [
       "<Figure size 432x288 with 1 Axes>"
      ]
     },
     "metadata": {
      "needs_background": "light"
     },
     "output_type": "display_data"
    }
   ],
   "source": [
    "# Build the logistic regression model to use in backward feature selection\n",
    "clf = linear_model.LogisticRegression(random_state=0)\n",
    "\n",
    "sbs1 = sfs(clf,\n",
    "           k_features=1,\n",
    "           forward=False,\n",
    "           floating=False,\n",
    "           scoring='accuracy',\n",
    "           cv=10)\n",
    "\n",
    "sbs1 = sbs1.fit(X, y)\n",
    "\n",
    "#output the added feature dataframe\n",
    "b_cycle = []\n",
    "b_names = []\n",
    "b_removed = []\n",
    "b_nmse = []\n",
    "\n",
    "for k,v in sbs1.subsets_.items():\n",
    "    b_cycle.append(k)\n",
    "    b_names.append(set(v['feature_names']))\n",
    "    b_nmse.append(v['avg_score'].round(2))\n",
    "\n",
    "for i in range(len(b_names)-1,-1,-1):\n",
    "    if i == len(b_names)-1:\n",
    "        f = b_names[i]\n",
    "    else:\n",
    "        f = b_names[i]^b_names[i+1]        \n",
    "    b_removed.append(list(f)[0])\n",
    "\n",
    "result = pd.DataFrame({'cycle':b_cycle,'Removed_features':b_removed,'accuracy':b_nmse})\n",
    "print(result)\n",
    "\n",
    "# Generate the performance figure               \n",
    "fig = plot_sfs(sbs1.get_metric_dict(), kind='std_err')\n",
    "\n",
    "plt.title('Sequential Backward Selection (w. std_err)')\n",
    "plt.grid()\n",
    "plt.show()"
   ]
  },
  {
   "cell_type": "code",
   "execution_count": 367,
   "id": "declared-rainbow",
   "metadata": {
    "ExecuteTime": {
     "end_time": "2021-02-18T15:40:23.293920Z",
     "start_time": "2021-02-18T15:40:23.286073Z"
    }
   },
   "outputs": [
    {
     "name": "stdout",
     "output_type": "stream",
     "text": [
      "treatment              1.000000\n",
      "gender_female         -0.330426\n",
      "age                   -0.148967\n",
      "family_history_True    0.134395\n",
      "blood_test_negative    0.053359\n",
      "blood_pressure         0.096630\n",
      "TestB                  0.060390\n",
      "Name: treatment, dtype: float64\n"
     ]
    }
   ],
   "source": [
    "#Combine the result from the forward selection and bfamily_history_True','blood_pressure'ackward selection, below features are selected\n",
    "med_sf = med_df[['treatment','gender_female','age', 'family_history_True','blood_test_negative', 'blood_pressure','TestB']]\n",
    "\n",
    "#Examine the correlation betweeen each features\n",
    "corrMatrix = med_sf.corr()\n",
    "print (corrMatrix.iloc[:,0])"
   ]
  },
  {
   "cell_type": "code",
   "execution_count": 368,
   "id": "rolled-beach",
   "metadata": {
    "ExecuteTime": {
     "end_time": "2021-02-18T15:40:24.301967Z",
     "start_time": "2021-02-18T15:40:24.286262Z"
    },
    "scrolled": true
   },
   "outputs": [
    {
     "data": {
      "text/html": [
       "<div>\n",
       "<style scoped>\n",
       "    .dataframe tbody tr th:only-of-type {\n",
       "        vertical-align: middle;\n",
       "    }\n",
       "\n",
       "    .dataframe tbody tr th {\n",
       "        vertical-align: top;\n",
       "    }\n",
       "\n",
       "    .dataframe thead th {\n",
       "        text-align: right;\n",
       "    }\n",
       "</style>\n",
       "<table border=\"1\" class=\"dataframe\">\n",
       "  <thead>\n",
       "    <tr style=\"text-align: right;\">\n",
       "      <th></th>\n",
       "      <th>features</th>\n",
       "      <th>t_score</th>\n",
       "      <th>p-value</th>\n",
       "    </tr>\n",
       "  </thead>\n",
       "  <tbody>\n",
       "    <tr>\n",
       "      <th>0</th>\n",
       "      <td>gender_female</td>\n",
       "      <td>1224.767450</td>\n",
       "      <td>3.203795e-253</td>\n",
       "    </tr>\n",
       "    <tr>\n",
       "      <th>1</th>\n",
       "      <td>age</td>\n",
       "      <td>226.790407</td>\n",
       "      <td>1.073245e-50</td>\n",
       "    </tr>\n",
       "    <tr>\n",
       "      <th>2</th>\n",
       "      <td>family_history_True</td>\n",
       "      <td>183.812896</td>\n",
       "      <td>1.657911e-41</td>\n",
       "    </tr>\n",
       "    <tr>\n",
       "      <th>4</th>\n",
       "      <td>blood_pressure</td>\n",
       "      <td>94.188282</td>\n",
       "      <td>3.593643e-22</td>\n",
       "    </tr>\n",
       "    <tr>\n",
       "      <th>5</th>\n",
       "      <td>TestB</td>\n",
       "      <td>36.577316</td>\n",
       "      <td>1.519855e-09</td>\n",
       "    </tr>\n",
       "    <tr>\n",
       "      <th>3</th>\n",
       "      <td>blood_test_negative</td>\n",
       "      <td>28.533273</td>\n",
       "      <td>9.412585e-08</td>\n",
       "    </tr>\n",
       "  </tbody>\n",
       "</table>\n",
       "</div>"
      ],
      "text/plain": [
       "              features      t_score        p-value\n",
       "0        gender_female  1224.767450  3.203795e-253\n",
       "1                  age   226.790407   1.073245e-50\n",
       "2  family_history_True   183.812896   1.657911e-41\n",
       "4       blood_pressure    94.188282   3.593643e-22\n",
       "5                TestB    36.577316   1.519855e-09\n",
       "3  blood_test_negative    28.533273   9.412585e-08"
      ]
     },
     "execution_count": 368,
     "metadata": {},
     "output_type": "execute_result"
    }
   ],
   "source": [
    "# T-test between each features and price, all the selected features are statiscally significant related to the treatment\n",
    "features = ['gender_female','age', 'family_history_True','blood_test_negative', 'blood_pressure','TestB']\n",
    "f_score = f_regression(med_sf.iloc[:,1:], med_sf['treatment'])\n",
    "feature_t_score = pd.DataFrame({'features':features, 't_score':f_score[0], 'p-value':f_score[1]}).sort_values(by=['t_score'], ascending=False)\n",
    "feature_t_score"
   ]
  },
  {
   "cell_type": "markdown",
   "id": "certified-giving",
   "metadata": {},
   "source": [
    "### Feature Engineering"
   ]
  },
  {
   "cell_type": "markdown",
   "id": "objective-aerospace",
   "metadata": {},
   "source": [
    "#### Age X Treatment"
   ]
  },
  {
   "cell_type": "code",
   "execution_count": 471,
   "id": "portuguese-ordinary",
   "metadata": {
    "ExecuteTime": {
     "end_time": "2021-02-18T16:28:53.669689Z",
     "start_time": "2021-02-18T16:28:53.352603Z"
    }
   },
   "outputs": [
    {
     "data": {
      "text/plain": [
       "Text(0, 0.5, 'Frequency')"
      ]
     },
     "execution_count": 471,
     "metadata": {},
     "output_type": "execute_result"
    },
    {
     "data": {
      "image/png": "[encoded data removed]",
      "text/plain": [
       "<Figure size 432x288 with 1 Axes>"
      ]
     },
     "metadata": {
      "needs_background": "light"
     },
     "output_type": "display_data"
    }
   ],
   "source": [
    "# Plot out the distribution of age for each value of the treatment\n",
    "treatment = [0, 1]\n",
    "\n",
    "for t in treatment:\n",
    "    subset = med_sf[med_sf['treatment'] == t]\n",
    "    sns.distplot(subset['age'], hist=False, kde=True, \n",
    "                 kde_kws={'linewidth': 2}, label = t)\n",
    "    \n",
    "# Plot formatting\n",
    "plt.legend(prop={'size': 16}, title = 'age X treatment')\n",
    "plt.title('Age distribution for different treatment')\n",
    "plt.xlabel('Age')\n",
    "plt.ylabel('Frequency')"
   ]
  },
  {
   "cell_type": "markdown",
   "id": "nasty-europe",
   "metadata": {},
   "source": [
    "#### Blood Pressure X Treatment"
   ]
  },
  {
   "cell_type": "code",
   "execution_count": 472,
   "id": "traditional-hotel",
   "metadata": {
    "ExecuteTime": {
     "end_time": "2021-02-18T16:28:58.945306Z",
     "start_time": "2021-02-18T16:28:58.460579Z"
    }
   },
   "outputs": [
    {
     "data": {
      "text/plain": [
       "Text(0, 0.5, 'Frequency')"
      ]
     },
     "execution_count": 472,
     "metadata": {},
     "output_type": "execute_result"
    },
    {
     "data": {
      "image/png": "[encoded data removed]",
      "text/plain": [
       "<Figure size 432x288 with 1 Axes>"
      ]
     },
     "metadata": {
      "needs_background": "light"
     },
     "output_type": "display_data"
    }
   ],
   "source": [
    "# Plot out the distribution of blood_pressure for each value of the treatment\n",
    "treatment = [0, 1]\n",
    "\n",
    "for t in treatment:\n",
    "    subset = med_sf[med_sf['treatment'] == t]\n",
    "    sns.distplot(subset['blood_pressure'], hist=False, kde=True, \n",
    "                 kde_kws={'linewidth': 2}, label = t)\n",
    "    \n",
    "# Plot formatting\n",
    "plt.legend(prop={'size': 16}, title = 'TestB X treament')\n",
    "plt.title('Blood pressure distribution for different treatment')\n",
    "plt.xlabel('Blood pressure')\n",
    "plt.ylabel('Frequency')"
   ]
  },
  {
   "cell_type": "markdown",
   "id": "tough-infection",
   "metadata": {},
   "source": [
    "#### TestB X Treatment"
   ]
  },
  {
   "cell_type": "code",
   "execution_count": 473,
   "id": "advanced-exhibit",
   "metadata": {
    "ExecuteTime": {
     "end_time": "2021-02-18T16:29:05.107561Z",
     "start_time": "2021-02-18T16:29:04.838127Z"
    },
    "scrolled": true
   },
   "outputs": [
    {
     "data": {
      "text/plain": [
       "Text(0, 0.5, 'Frequency')"
      ]
     },
     "execution_count": 473,
     "metadata": {},
     "output_type": "execute_result"
    },
    {
     "data": {
      "image/png": "[encoded data removed]",
      "text/plain": [
       "<Figure size 432x288 with 1 Axes>"
      ]
     },
     "metadata": {
      "needs_background": "light"
     },
     "output_type": "display_data"
    }
   ],
   "source": [
    "# Plot out the distribution of TestB for each value of the treatment\n",
    "treatment = [0, 1]\n",
    "\n",
    "for t in treatment:\n",
    "    subset = med_sf[med_sf['treatment'] == t]\n",
    "    sns.distplot(subset['TestB'], hist=False, kde=True, \n",
    "                 kde_kws={'linewidth': 2}, label = t)\n",
    "    \n",
    "# Plot formatting\n",
    "plt.legend(prop={'size': 16}, title = 'TestB X treament')\n",
    "plt.title('TestB distribution for different treatment')\n",
    "plt.xlabel('TestB')\n",
    "plt.ylabel('Frequency')"
   ]
  },
  {
   "cell_type": "markdown",
   "id": "interstate-brave",
   "metadata": {
    "ExecuteTime": {
     "end_time": "2021-02-18T11:56:27.061722Z",
     "start_time": "2021-02-18T11:56:27.058352Z"
    }
   },
   "source": [
    "#### Test B Absolute Value X Treatment"
   ]
  },
  {
   "cell_type": "code",
   "execution_count": 372,
   "id": "affecting-belarus",
   "metadata": {
    "ExecuteTime": {
     "end_time": "2021-02-18T15:40:44.851623Z",
     "start_time": "2021-02-18T15:40:44.841066Z"
    },
    "scrolled": true
   },
   "outputs": [
    {
     "data": {
      "text/html": [
       "<div>\n",
       "<style scoped>\n",
       "    .dataframe tbody tr th:only-of-type {\n",
       "        vertical-align: middle;\n",
       "    }\n",
       "\n",
       "    .dataframe tbody tr th {\n",
       "        vertical-align: top;\n",
       "    }\n",
       "\n",
       "    .dataframe thead th {\n",
       "        text-align: right;\n",
       "    }\n",
       "</style>\n",
       "<table border=\"1\" class=\"dataframe\">\n",
       "  <thead>\n",
       "    <tr style=\"text-align: right;\">\n",
       "      <th></th>\n",
       "      <th>treatment</th>\n",
       "      <th>gender_female</th>\n",
       "      <th>age</th>\n",
       "      <th>family_history_True</th>\n",
       "      <th>blood_test_negative</th>\n",
       "      <th>blood_pressure</th>\n",
       "      <th>TestB</th>\n",
       "      <th>TestB_abs</th>\n",
       "    </tr>\n",
       "  </thead>\n",
       "  <tbody>\n",
       "    <tr>\n",
       "      <th>739</th>\n",
       "      <td>0</td>\n",
       "      <td>0</td>\n",
       "      <td>63</td>\n",
       "      <td>0</td>\n",
       "      <td>1</td>\n",
       "      <td>81.124948</td>\n",
       "      <td>0.013605</td>\n",
       "      <td>0.013605</td>\n",
       "    </tr>\n",
       "    <tr>\n",
       "      <th>5419</th>\n",
       "      <td>0</td>\n",
       "      <td>1</td>\n",
       "      <td>58</td>\n",
       "      <td>0</td>\n",
       "      <td>1</td>\n",
       "      <td>89.280816</td>\n",
       "      <td>-0.191927</td>\n",
       "      <td>0.191927</td>\n",
       "    </tr>\n",
       "    <tr>\n",
       "      <th>8946</th>\n",
       "      <td>0</td>\n",
       "      <td>1</td>\n",
       "      <td>69</td>\n",
       "      <td>0</td>\n",
       "      <td>1</td>\n",
       "      <td>83.125487</td>\n",
       "      <td>-0.052280</td>\n",
       "      <td>0.052280</td>\n",
       "    </tr>\n",
       "    <tr>\n",
       "      <th>2232</th>\n",
       "      <td>0</td>\n",
       "      <td>1</td>\n",
       "      <td>72</td>\n",
       "      <td>0</td>\n",
       "      <td>1</td>\n",
       "      <td>82.517926</td>\n",
       "      <td>0.115020</td>\n",
       "      <td>0.115020</td>\n",
       "    </tr>\n",
       "    <tr>\n",
       "      <th>2906</th>\n",
       "      <td>1</td>\n",
       "      <td>1</td>\n",
       "      <td>58</td>\n",
       "      <td>0</td>\n",
       "      <td>1</td>\n",
       "      <td>87.325903</td>\n",
       "      <td>0.247713</td>\n",
       "      <td>0.247713</td>\n",
       "    </tr>\n",
       "  </tbody>\n",
       "</table>\n",
       "</div>"
      ],
      "text/plain": [
       "      treatment  gender_female  age  family_history_True  blood_test_negative  \\\n",
       "739           0              0   63                    0                    1   \n",
       "5419          0              1   58                    0                    1   \n",
       "8946          0              1   69                    0                    1   \n",
       "2232          0              1   72                    0                    1   \n",
       "2906          1              1   58                    0                    1   \n",
       "\n",
       "      blood_pressure     TestB  TestB_abs  \n",
       "739        81.124948  0.013605   0.013605  \n",
       "5419       89.280816 -0.191927   0.191927  \n",
       "8946       83.125487 -0.052280   0.052280  \n",
       "2232       82.517926  0.115020   0.115020  \n",
       "2906       87.325903  0.247713   0.247713  "
      ]
     },
     "execution_count": 372,
     "metadata": {},
     "output_type": "execute_result"
    }
   ],
   "source": [
    "med_sf['TestB_abs'] = med_sf['TestB'].abs()\n",
    "med_sf.head()"
   ]
  },
  {
   "cell_type": "code",
   "execution_count": 474,
   "id": "front-enlargement",
   "metadata": {
    "ExecuteTime": {
     "end_time": "2021-02-18T16:29:16.740591Z",
     "start_time": "2021-02-18T16:29:16.415261Z"
    },
    "scrolled": false
   },
   "outputs": [
    {
     "data": {
      "text/plain": [
       "Text(0, 0.5, 'Frequency')"
      ]
     },
     "execution_count": 474,
     "metadata": {},
     "output_type": "execute_result"
    },
    {
     "data": {
      "image/png": "[encoded data removed]",
      "text/plain": [
       "<Figure size 432x288 with 1 Axes>"
      ]
     },
     "metadata": {
      "needs_background": "light"
     },
     "output_type": "display_data"
    }
   ],
   "source": [
    "# Plot out the distribution of TestB_abs for each value of the treatment\n",
    "treatment = [0, 1]\n",
    "\n",
    "for t in treatment:\n",
    "    subset = med_sf[med_sf['treatment'] == t]\n",
    "    sns.distplot(subset['TestB_abs'], hist=False, kde=True, \n",
    "                 kde_kws={'linewidth': 2}, label = t)\n",
    "    \n",
    "# Plot formatting\n",
    "plt.legend(prop={'size': 16}, title = 'TestB_abs X tretament')\n",
    "plt.title('TestB_abs distribution for different treatment')\n",
    "plt.xlabel('TestB_abs')\n",
    "plt.ylabel('Frequency')"
   ]
  },
  {
   "cell_type": "markdown",
   "id": "floppy-gamma",
   "metadata": {},
   "source": [
    "### Model Training and validation"
   ]
  },
  {
   "cell_type": "code",
   "execution_count": 552,
   "id": "unavailable-variance",
   "metadata": {
    "ExecuteTime": {
     "end_time": "2021-02-18T17:45:23.213331Z",
     "start_time": "2021-02-18T17:45:23.208351Z"
    }
   },
   "outputs": [],
   "source": [
    "med_sf = med_sf.drop(columns=['TestB'])\n",
    "train = med_sf.iloc[:-2000, :]\n",
    "test = med_sf.iloc[-2000:, :]"
   ]
  },
  {
   "cell_type": "code",
   "execution_count": 553,
   "id": "satisfied-tiffany",
   "metadata": {
    "ExecuteTime": {
     "end_time": "2021-02-18T17:45:23.864299Z",
     "start_time": "2021-02-18T17:45:23.859084Z"
    }
   },
   "outputs": [],
   "source": [
    "X_train = train.iloc[:, 1:]\n",
    "y_train = train.iloc[:, 0]\n",
    "\n",
    "X_test =  test.iloc[:, 1:]\n",
    "y_test = test.iloc[:, 0]"
   ]
  },
  {
   "cell_type": "markdown",
   "id": "extended-guatemala",
   "metadata": {
    "ExecuteTime": {
     "end_time": "2021-02-17T14:46:18.913105Z",
     "start_time": "2021-02-17T14:46:18.906750Z"
    }
   },
   "source": [
    "#### the default logistic regression model (with l2 regularization) with K-fold Cross Validation"
   ]
  },
  {
   "cell_type": "code",
   "execution_count": 554,
   "id": "nuclear-yield",
   "metadata": {
    "ExecuteTime": {
     "end_time": "2021-02-18T17:45:25.598504Z",
     "start_time": "2021-02-18T17:45:24.909654Z"
    }
   },
   "outputs": [
    {
     "data": {
      "image/png": "[encoded data removed]",
      "text/plain": [
       "<Figure size 432x432 with 1 Axes>"
      ]
     },
     "metadata": {
      "needs_background": "light"
     },
     "output_type": "display_data"
    },
    {
     "data": {
      "text/plain": [
       "<Figure size 36000x36000 with 0 Axes>"
      ]
     },
     "metadata": {},
     "output_type": "display_data"
    }
   ],
   "source": [
    "# Run classifier with cross-validation and plot ROC curves\n",
    "cv = StratifiedKFold(n_splits=6)\n",
    "clf = linear_model.LogisticRegression(random_state=0)\n",
    "\n",
    "# Draw the plot\n",
    "fig1 = plt.figure(figsize=[6,6])\n",
    "ax = fig1.add_subplot(111,aspect = 'equal')\n",
    "\n",
    "tprs = []\n",
    "aucs = []\n",
    "mean_fpr = np.linspace(0, 1, 100)\n",
    "i = 1\n",
    "\n",
    "#calculate the fpr, tpr for each iteration\n",
    "for train, test in cv.split(X_train, y_train):\n",
    "    # Make the prediction\n",
    "    prediction = clf.fit(X_train.iloc[train],y_train.iloc[train]).predict_proba(X_train.iloc[test])[:, 1]\n",
    "    \n",
    "    #Calculate fpr tpr\n",
    "    fpr, tpr, threshold = roc_curve(y_train.iloc[test], prediction)\n",
    "    tprs.append(interp(mean_fpr, fpr, tpr))\n",
    "    roc_auc = auc(fpr, tpr)\n",
    "    aucs.append(roc_auc)\n",
    "    \n",
    "    # Plot out the ROC curve for one fold\n",
    "    plt.plot(fpr, tpr, lw=2, alpha=0.3, label='ROC fold %d (AUC = %0.2f)' % (i, roc_auc))\n",
    "    i= i+1\n",
    "\n",
    "# Diagonal as the criterion\n",
    "plt.plot([0, 1], [0, 1], linestyle='--', lw=2, color='r',\n",
    "        label='Chance', alpha=.8)\n",
    "\n",
    "# Calculate the mean tpr and auc score for all the fold\n",
    "mean_tpr = np.mean(tprs, axis=0)\n",
    "mean_auc = auc(mean_fpr, mean_tpr)\n",
    "std_auc = np.std(aucs)\n",
    "\n",
    "# Plot out the average roc curve of all the folds\n",
    "plt.plot(mean_fpr, mean_tpr, color='b',\n",
    "        label=r'Mean ROC (AUC = %0.2f $\\pm$ %0.2f)' % (mean_auc, std_auc),\n",
    "        lw=2, alpha=.8)\n",
    "\n",
    "# Axis\n",
    "plt.xlim([0.0, 1.0])\n",
    "plt.ylim([0.0, 1.05])\n",
    "plt.xlabel('False Positive Rate', fontsize=15)\n",
    "plt.ylabel('True Positive Rate', fontsize=15)\n",
    "plt.title('ROC, the default logistic regression model (with l2 regularization)', fontsize=15)\n",
    "plt.legend(loc=\"lower right\")\n",
    "plt.figure(figsize = (500,500))\n",
    "plt.show()"
   ]
  },
  {
   "cell_type": "markdown",
   "id": "floral-nepal",
   "metadata": {},
   "source": [
    "#### the logistic regression model with L1 regularization"
   ]
  },
  {
   "cell_type": "code",
   "execution_count": 555,
   "id": "conservative-sierra",
   "metadata": {
    "ExecuteTime": {
     "end_time": "2021-02-18T17:45:29.760417Z",
     "start_time": "2021-02-18T17:45:28.726455Z"
    }
   },
   "outputs": [
    {
     "data": {
      "image/png": "[encoded data removed]",
      "text/plain": [
       "<Figure size 432x432 with 1 Axes>"
      ]
     },
     "metadata": {
      "needs_background": "light"
     },
     "output_type": "display_data"
    },
    {
     "data": {
      "text/plain": [
       "<Figure size 36000x36000 with 0 Axes>"
      ]
     },
     "metadata": {},
     "output_type": "display_data"
    }
   ],
   "source": [
    "# Run classifier with cross-validation and plot ROC curves\n",
    "cv = StratifiedKFold(n_splits=6)\n",
    "clf = linear_model.LogisticRegression(penalty='l1', random_state=0, solver='saga')\n",
    "\n",
    "# Draw the plot\n",
    "fig1 = plt.figure(figsize=[6,6])\n",
    "ax = fig1.add_subplot(111,aspect = 'equal')\n",
    "\n",
    "tprs = []\n",
    "aucs = []\n",
    "mean_fpr = np.linspace(0, 1, 100)\n",
    "i = 1\n",
    "\n",
    "#calculate the fpr, tpr for each iteration\n",
    "for train, test in cv.split(X_train, y_train):\n",
    "    # Make the prediction\n",
    "    prediction = clf.fit(X_train.iloc[train],y_train.iloc[train]).predict_proba(X_train.iloc[test])[:, 1]\n",
    "    \n",
    "    #Calculate fpr tpr\n",
    "    fpr, tpr, threshold = roc_curve(y_train.iloc[test], prediction)\n",
    "    tprs.append(interp(mean_fpr, fpr, tpr))\n",
    "    roc_auc = auc(fpr, tpr)\n",
    "    aucs.append(roc_auc)\n",
    "    \n",
    "    # Plot out the ROC curve for one fold\n",
    "    plt.plot(fpr, tpr, lw=2, alpha=0.3, label='ROC fold %d (AUC = %0.2f)' % (i, roc_auc))\n",
    "    i= i+1\n",
    "\n",
    "# Diagonal as the criterion\n",
    "plt.plot([0, 1], [0, 1], linestyle='--', lw=2, color='r',\n",
    "        label='Chance', alpha=.8)\n",
    "\n",
    "# Calculate the mean tpr and auc score for all the fold\n",
    "mean_tpr = np.mean(tprs, axis=0)\n",
    "mean_auc = auc(mean_fpr, mean_tpr)\n",
    "std_auc = np.std(aucs)\n",
    "\n",
    "# Plot out the average roc curve of all the folds\n",
    "plt.plot(mean_fpr, mean_tpr, color='b',\n",
    "        label=r'Mean ROC (AUC = %0.2f $\\pm$ %0.2f)' % (mean_auc, std_auc),\n",
    "        lw=2, alpha=.8)\n",
    "\n",
    "# Axis\n",
    "plt.xlim([0.0, 1.0])\n",
    "plt.ylim([0.0, 1.05])\n",
    "plt.xlabel('False Positive Rate', fontsize=15)\n",
    "plt.ylabel('True Positive Rate', fontsize=15)\n",
    "plt.title('ROC, the logistic regression model (with l1 regularization)', fontsize=15)\n",
    "plt.legend(loc=\"lower right\")\n",
    "plt.figure(figsize = (500,500))\n",
    "plt.show()"
   ]
  },
  {
   "cell_type": "markdown",
   "id": "operating-jones",
   "metadata": {},
   "source": [
    "### Final Test"
   ]
  },
  {
   "cell_type": "markdown",
   "id": "right-emphasis",
   "metadata": {},
   "source": [
    "#### Data Preparing"
   ]
  },
  {
   "cell_type": "code",
   "execution_count": 557,
   "id": "recent-ultimate",
   "metadata": {
    "ExecuteTime": {
     "end_time": "2021-02-18T17:45:35.544857Z",
     "start_time": "2021-02-18T17:45:35.538198Z"
    }
   },
   "outputs": [
    {
     "name": "stdout",
     "output_type": "stream",
     "text": [
      "treatment              1.000000\n",
      "gender_female         -0.330426\n",
      "age                   -0.148967\n",
      "family_history_True    0.134395\n",
      "blood_test_negative    0.053359\n",
      "blood_pressure         0.096630\n",
      "TestB_abs              0.351589\n",
      "Name: treatment, dtype: float64\n"
     ]
    }
   ],
   "source": [
    "#Examine the correlation betweeen each features\n",
    "corrMatrix = med_sf.corr()\n",
    "print (corrMatrix.iloc[:,0])"
   ]
  },
  {
   "cell_type": "code",
   "execution_count": 558,
   "id": "protecting-contrary",
   "metadata": {
    "ExecuteTime": {
     "end_time": "2021-02-18T17:45:37.248862Z",
     "start_time": "2021-02-18T17:45:37.234741Z"
    }
   },
   "outputs": [
    {
     "data": {
      "text/html": [
       "<div>\n",
       "<style scoped>\n",
       "    .dataframe tbody tr th:only-of-type {\n",
       "        vertical-align: middle;\n",
       "    }\n",
       "\n",
       "    .dataframe tbody tr th {\n",
       "        vertical-align: top;\n",
       "    }\n",
       "\n",
       "    .dataframe thead th {\n",
       "        text-align: right;\n",
       "    }\n",
       "</style>\n",
       "<table border=\"1\" class=\"dataframe\">\n",
       "  <thead>\n",
       "    <tr style=\"text-align: right;\">\n",
       "      <th></th>\n",
       "      <th>features</th>\n",
       "      <th>t_score</th>\n",
       "      <th>p-value</th>\n",
       "    </tr>\n",
       "  </thead>\n",
       "  <tbody>\n",
       "    <tr>\n",
       "      <th>5</th>\n",
       "      <td>TestB_abs</td>\n",
       "      <td>1409.516485</td>\n",
       "      <td>1.076959e-288</td>\n",
       "    </tr>\n",
       "    <tr>\n",
       "      <th>0</th>\n",
       "      <td>gender_female</td>\n",
       "      <td>1224.767450</td>\n",
       "      <td>3.203795e-253</td>\n",
       "    </tr>\n",
       "    <tr>\n",
       "      <th>1</th>\n",
       "      <td>age</td>\n",
       "      <td>226.790407</td>\n",
       "      <td>1.073245e-50</td>\n",
       "    </tr>\n",
       "    <tr>\n",
       "      <th>2</th>\n",
       "      <td>family_history_True</td>\n",
       "      <td>183.812896</td>\n",
       "      <td>1.657911e-41</td>\n",
       "    </tr>\n",
       "    <tr>\n",
       "      <th>4</th>\n",
       "      <td>blood_pressure</td>\n",
       "      <td>94.188282</td>\n",
       "      <td>3.593643e-22</td>\n",
       "    </tr>\n",
       "    <tr>\n",
       "      <th>3</th>\n",
       "      <td>blood_test_negative</td>\n",
       "      <td>28.533273</td>\n",
       "      <td>9.412585e-08</td>\n",
       "    </tr>\n",
       "  </tbody>\n",
       "</table>\n",
       "</div>"
      ],
      "text/plain": [
       "              features      t_score        p-value\n",
       "5            TestB_abs  1409.516485  1.076959e-288\n",
       "0        gender_female  1224.767450  3.203795e-253\n",
       "1                  age   226.790407   1.073245e-50\n",
       "2  family_history_True   183.812896   1.657911e-41\n",
       "4       blood_pressure    94.188282   3.593643e-22\n",
       "3  blood_test_negative    28.533273   9.412585e-08"
      ]
     },
     "execution_count": 558,
     "metadata": {},
     "output_type": "execute_result"
    }
   ],
   "source": [
    "# T-test between each features and price, all the selected features are statiscally significant related to the treatment\n",
    "features = ['gender_female','age', 'family_history_True','blood_test_negative', 'blood_pressure','TestB_abs']\n",
    "f_score = f_regression(med_fsf.iloc[:,1:], med_fsf['treatment'])\n",
    "feature_t_score = pd.DataFrame({'features':features, 't_score':f_score[0], 'p-value':f_score[1]}).sort_values(by=['t_score'], ascending=False)\n",
    "feature_t_score"
   ]
  },
  {
   "cell_type": "markdown",
   "id": "juvenile-mercy",
   "metadata": {},
   "source": [
    "#### Fit the model"
   ]
  },
  {
   "cell_type": "code",
   "execution_count": 559,
   "id": "dominican-concentration",
   "metadata": {
    "ExecuteTime": {
     "end_time": "2021-02-18T17:45:41.934323Z",
     "start_time": "2021-02-18T17:45:41.843005Z"
    }
   },
   "outputs": [
    {
     "name": "stdout",
     "output_type": "stream",
     "text": [
      "[0.30464659 0.37529452 0.59644106 ... 0.08993006 0.08079782 0.05542676]\n"
     ]
    }
   ],
   "source": [
    "# Train the logistic regression model\n",
    "clf = linear_model.LogisticRegression(random_state=0).fit(X_train, y_train)\n",
    "# Predict the test set\n",
    "y_result = clf.predict(X_test) # the decision results\n",
    "y_predict = clf.predict_proba(X_test)[:, 1] # the probability results\n",
    "print(y_predict)"
   ]
  },
  {
   "cell_type": "markdown",
   "id": "whole-point",
   "metadata": {},
   "source": [
    "#### Feature influence"
   ]
  },
  {
   "cell_type": "code",
   "execution_count": 560,
   "id": "interior-national",
   "metadata": {
    "ExecuteTime": {
     "end_time": "2021-02-18T17:45:43.161796Z",
     "start_time": "2021-02-18T17:45:43.147261Z"
    },
    "scrolled": true
   },
   "outputs": [
    {
     "data": {
      "text/html": [
       "<div>\n",
       "<style scoped>\n",
       "    .dataframe tbody tr th:only-of-type {\n",
       "        vertical-align: middle;\n",
       "    }\n",
       "\n",
       "    .dataframe tbody tr th {\n",
       "        vertical-align: top;\n",
       "    }\n",
       "\n",
       "    .dataframe thead th {\n",
       "        text-align: right;\n",
       "    }\n",
       "</style>\n",
       "<table border=\"1\" class=\"dataframe\">\n",
       "  <thead>\n",
       "    <tr style=\"text-align: right;\">\n",
       "      <th></th>\n",
       "      <th>features</th>\n",
       "      <th>std</th>\n",
       "      <th>coef</th>\n",
       "      <th>influence</th>\n",
       "    </tr>\n",
       "  </thead>\n",
       "  <tbody>\n",
       "    <tr>\n",
       "      <th>5</th>\n",
       "      <td>TestB_abs</td>\n",
       "      <td>0.190147</td>\n",
       "      <td>5.234637</td>\n",
       "      <td>0.995349</td>\n",
       "    </tr>\n",
       "    <tr>\n",
       "      <th>0</th>\n",
       "      <td>gender_female</td>\n",
       "      <td>0.478633</td>\n",
       "      <td>-1.849324</td>\n",
       "      <td>-0.885148</td>\n",
       "    </tr>\n",
       "    <tr>\n",
       "      <th>1</th>\n",
       "      <td>age</td>\n",
       "      <td>8.092201</td>\n",
       "      <td>-0.060087</td>\n",
       "      <td>-0.486232</td>\n",
       "    </tr>\n",
       "    <tr>\n",
       "      <th>2</th>\n",
       "      <td>family_history_True</td>\n",
       "      <td>0.099524</td>\n",
       "      <td>4.805062</td>\n",
       "      <td>0.478217</td>\n",
       "    </tr>\n",
       "    <tr>\n",
       "      <th>4</th>\n",
       "      <td>blood_pressure</td>\n",
       "      <td>3.276370</td>\n",
       "      <td>0.045531</td>\n",
       "      <td>0.149176</td>\n",
       "    </tr>\n",
       "    <tr>\n",
       "      <th>3</th>\n",
       "      <td>blood_test_negative</td>\n",
       "      <td>0.297389</td>\n",
       "      <td>0.500721</td>\n",
       "      <td>0.148909</td>\n",
       "    </tr>\n",
       "  </tbody>\n",
       "</table>\n",
       "</div>"
      ],
      "text/plain": [
       "              features       std      coef  influence\n",
       "5            TestB_abs  0.190147  5.234637   0.995349\n",
       "0        gender_female  0.478633 -1.849324  -0.885148\n",
       "1                  age  8.092201 -0.060087  -0.486232\n",
       "2  family_history_True  0.099524  4.805062   0.478217\n",
       "4       blood_pressure  3.276370  0.045531   0.149176\n",
       "3  blood_test_negative  0.297389  0.500721   0.148909"
      ]
     },
     "execution_count": 560,
     "metadata": {},
     "output_type": "execute_result"
    }
   ],
   "source": [
    "# print out the coefficients of each feature, calculate the influence of each feature to the treatment\n",
    "# by the multiplication of coefficients and standard deviation\n",
    "features = X_test.columns\n",
    "std = X_test.std(axis=0).tolist()\n",
    "coef = clf.coef_.ravel()\n",
    "influence = pd.DataFrame({'features':features,'std':std, 'coef':coef})\n",
    "\n",
    "influence['influence'] = influence['std']*influence['coef']\n",
    "influence = influence.sort_values(by=['influence'], ascending=False,key=pd.Series.abs)\n",
    "influence"
   ]
  },
  {
   "cell_type": "markdown",
   "id": "local-sunrise",
   "metadata": {},
   "source": [
    "#### Confusion Matrix"
   ]
  },
  {
   "cell_type": "code",
   "execution_count": 561,
   "id": "supposed-realtor",
   "metadata": {
    "ExecuteTime": {
     "end_time": "2021-02-18T17:45:44.510361Z",
     "start_time": "2021-02-18T17:45:44.501517Z"
    },
    "scrolled": true
   },
   "outputs": [
    {
     "name": "stdout",
     "output_type": "stream",
     "text": [
      "[[1122  169]\n",
      " [ 313  396]]\n",
      "The accuracy is 0.759.\n",
      "The precission is 0.701.\n",
      "The false positive rate is 0.299.\n",
      "The false negative rate is 0.218.\n"
     ]
    }
   ],
   "source": [
    "cm = confusion_matrix(y_test, y_result)\n",
    "tn = cm[0][0]\n",
    "fp = cm[0][1]\n",
    "fn = cm[1][0]\n",
    "tp = cm[1][1]\n",
    "print(cm)\n",
    "accuracy = round((tp+tn)/(tn+fp+fn+tp),3)\n",
    "precission = round(tp/(tp+fp),3)\n",
    "fnr = round(fn/(tn+fn),3)\n",
    "fpr1 = round(fp/(tp+fp), 3)\n",
    "print('The accuracy is %s.'%accuracy)\n",
    "print('The precission is %s.'%precission)\n",
    "print('The false positive rate is %s.'%fpr1)\n",
    "print('The false negative rate is %s.'%fnr)\n"
   ]
  },
  {
   "cell_type": "code",
   "execution_count": 562,
   "id": "driving-antenna",
   "metadata": {
    "ExecuteTime": {
     "end_time": "2021-02-18T17:45:58.109707Z",
     "start_time": "2021-02-18T17:45:58.106260Z"
    }
   },
   "outputs": [],
   "source": [
    "# Adjust the threshold to reduce false negative rate\n",
    "y_result_adjust = list()\n",
    "for p in y_predict:\n",
    "    if p < 0.25:\n",
    "        y_result_adjust.append(0)\n",
    "    else:\n",
    "        y_result_adjust.append(1)  "
   ]
  },
  {
   "cell_type": "code",
   "execution_count": 563,
   "id": "beginning-indicator",
   "metadata": {
    "ExecuteTime": {
     "end_time": "2021-02-18T17:45:58.497450Z",
     "start_time": "2021-02-18T17:45:58.487838Z"
    }
   },
   "outputs": [
    {
     "name": "stdout",
     "output_type": "stream",
     "text": [
      "[[779 512]\n",
      " [ 82 627]]\n",
      "The accuracy is 0.703.\n",
      "The precission is 0.55.\n",
      "The false positive rate is 0.45.\n",
      "The false negative rate is 0.095.\n"
     ]
    }
   ],
   "source": [
    "# Confusion Matrix after threshold adjustment\n",
    "cm = confusion_matrix(y_test, y_result_adjust)\n",
    "tn = cm[0][0]\n",
    "fp = cm[0][1]\n",
    "fn = cm[1][0]\n",
    "tp = cm[1][1]\n",
    "print(cm)\n",
    "accuracy = round((tp+tn)/(tn+fp+fn+tp),3)\n",
    "precission = round(tp/(tp+fp),3)\n",
    "fnr = round(fn/(tn+fn),3)\n",
    "fpr1 = round(fp/(tp+fp), 3)\n",
    "print('The accuracy is %s.'%accuracy)\n",
    "print('The precission is %s.'%precission)\n",
    "print('The false positive rate is %s.'%fpr1)\n",
    "print('The false negative rate is %s.'%fnr)\n"
   ]
  },
  {
   "cell_type": "markdown",
   "id": "experienced-briefs",
   "metadata": {},
   "source": [
    "#### ROC curve"
   ]
  },
  {
   "cell_type": "code",
   "execution_count": 564,
   "id": "numerical-robert",
   "metadata": {
    "ExecuteTime": {
     "end_time": "2021-02-18T17:46:16.914213Z",
     "start_time": "2021-02-18T17:46:16.907073Z"
    }
   },
   "outputs": [
    {
     "name": "stdout",
     "output_type": "stream",
     "text": [
      "The auc score of the model is: 0.832.\n"
     ]
    }
   ],
   "source": [
    "# Calculate fpr, tpr to generated the roc curve and auc score\n",
    "fpr, tpr, threshold = roc_curve(y_test, y_predict)\n",
    "roc_auc = auc(fpr, tpr)\n",
    "print('The auc score of the model is: %s.'%round(roc_auc,3))"
   ]
  },
  {
   "cell_type": "code",
   "execution_count": 565,
   "id": "magnetic-compilation",
   "metadata": {
    "ExecuteTime": {
     "end_time": "2021-02-18T17:46:17.768204Z",
     "start_time": "2021-02-18T17:46:17.535760Z"
    }
   },
   "outputs": [
    {
     "data": {
      "image/png": "[encoded data removed]",
      "text/plain": [
       "<Figure size 432x288 with 1 Axes>"
      ]
     },
     "metadata": {
      "needs_background": "light"
     },
     "output_type": "display_data"
    }
   ],
   "source": [
    "# Plot out the roc curve\n",
    "plt.figure()\n",
    "lw = 2\n",
    "plt.plot(fpr, tpr, color='darkorange',\n",
    "         lw=lw, label='ROC curve (area = %0.2f)' % roc_auc)\n",
    "plt.plot([0, 1], [0, 1], color='navy', lw=lw, linestyle='--')\n",
    "plt.xlim([0.0, 1.0])\n",
    "plt.ylim([0.0, 1.05])\n",
    "plt.xlabel('False Positive Rate')\n",
    "plt.ylabel('True Positive Rate')\n",
    "plt.title('Receiver operating characteristic example')\n",
    "plt.legend(loc=\"lower right\")\n",
    "plt.show()"
   ]
  },
  {
   "cell_type": "code",
   "execution_count": null,
   "id": "purple-shell",
   "metadata": {},
   "outputs": [],
   "source": []
  }
 ],
 "metadata": {
  "kernelspec": {
   "display_name": "Python 3",
   "language": "python",
   "name": "python3"
  },
  "language_info": {
   "codemirror_mode": {
    "name": "ipython",
    "version": 3
   },
   "file_extension": ".py",
   "mimetype": "text/x-python",
   "name": "python",
   "nbconvert_exporter": "python",
   "pygments_lexer": "ipython3",
   "version": "3.7.9"
  }
 },
 "nbformat": 4,
 "nbformat_minor": 5
}
